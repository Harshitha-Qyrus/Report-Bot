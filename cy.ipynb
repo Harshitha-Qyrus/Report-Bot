{
 "cells": [
  {
   "cell_type": "code",
   "execution_count": 1,
   "metadata": {},
   "outputs": [],
   "source": [
    "import textwrap\n",
    "\n",
    "graph_args = [\n",
    "    \"import pandas as pd\\\\nimport plotly.graph_objects as go\\\\nimport plotly.io as pio\\\\nimport os\\\\n\\\\n# Function to plot graph\\\\n\\\\ndef plot_graph(data, save_filename):\\\\n    # Create results directory if not exists\\\\n    if not os.path.exists('results'):\\\\n        os.makedirs('results')\\\\n\\\\n    # Create bar chart\\\\n    fig = go.Figure(data=[\\\\n        go.Bar(name='Pass', x=data[data['status'] == 'Pass']['status'], y=data[data['status'] == 'Pass']['count']),\\\\n        go.Bar(name='Fail', x=data[data['status'] == 'Fail']['status'], y=data[data['status'] == 'Fail']['count'])\\\\n    ])\\\\n\\\\n    # Change the bar mode\\\\n    fig.update_layout(barmode='group')\\\\n\\\\n    # Save the figure as png image\\\\n    fig.write_image('results/' + save_filename + '.png')\\\\n\\\\n    # Save the figure as json\\\\n    with open('results/' + save_filename + '.json', 'w') as json_file:\\\\n        json_file.write(fig.to_json())\\\\n\\\\n# Sample data\\\\nsample_data = 'status,count\\\\\\\\r\\\\\\\\nFail,14\\\\\\\\r\\\\\\\\nPass,19\\\\\\\\r\\\\\\\\n'\\\\n\\\\n# Convert string data to pandas dataframe\\\\nsample_data = pd.read_csv(pd.compat.StringIO(sample_data))\\\\n\\\\n# Call the function\\\\nplot_graph(sample_data, 'test_execution_status')\",\n",
    "    \"import pandas as pd\\\\nimport plotly.graph_objects as go\\\\nimport plotly.io as pio\\\\nimport os\\\\n\\\\n\\\\n# Function to plot graph\\\\n\\\\ndef plot_graph(data, save_filename):\\\\n\\\\n    # Create results directory if not exists\\\\n    if not os.path.exists('results'):\\\\n        os.makedirs('results')\\\\n\\\\n    # Prepare data\\\\n    data['date'] = pd.to_datetime(data['date'])\\\\n    fail_data = data[data['status'].str.contains('Fail')]\\\\n    pass_data = data[data['status'].str.contains('Pass')]\\\\n\\\\n    # Create traces\\\\n    trace_fail = go.Scatter(x=fail_data['date'], y=fail_data['count'], mode='lines+markers', name='Fail')\\\\n    trace_pass = go.Scatter(x=pass_data['date'], y=pass_data['count'], mode='lines+markers', name='Pass')\\\\n\\\\n    # Define layout\\\\n    layout = go.Layout(title='Test Execution Over Time', xaxis=dict(title='Time'), yaxis=dict(title='Number of Test Executions'))\\\\n\\\\n    # Define figure and add traces\\\\n    fig = go.Figure(data=[trace_fail, trace_pass], layout=layout)\\\\n\\\\n    # Save figure as image\\\\n    pio.write_image(fig, f'results/{save_filename}.png')\\\\n\\\\n    # Save figure as json\\\\n    with open(f'results/{save_filename}.json', 'w') as f:\\\\n        f.write(fig.to_json())\\\\n\\\\n    print(f'Graph saved as results/{save_filename}.png and results/{save_filename}.json')\\\\n\\\\n# Test the function\\\\n# Convert string data to dataframe\\\\nsample_data = 'date,status,count\\\\\\\\r\\\\\\\\n2022-09-21,Fail,2\\\\\\\\r\\\\\\\\n2022-09-21,Pass,3\\\\\\\\r\\\\\\\\n2022-09-22,Fail.1,3\\\\\\\\r\\\\\\\\n2022-09-22.1,Pass.1,2\\\\\\\\r\\\\\\\\n2022-09-23,Fail.2,4\\\\\\\\r\\\\\\\\n2022-09-23,Pass.2,2\\\\\\\\r\\\\\\\\n2022-09-26,Fail.3,2\\\\\\\\r\\\\\\\\n2022-09-26.1,Pass.3,4\\\\\\\\r\\\\\\\\n2022-10-03,Fail.4,2\\\\\\\\r\\\\\\\\n2022-10-03,Pass.4,2\\\\\\\\r\\\\\\\\n2023-01-19,Pass.5,3\\\\\\\\r\\\\\\\\n2023-01-23,Fail.5,1\\\\\\\\r\\\\\\\\n2023-01-23,Pass.6,2\\\\\\\\r\\\\\\\\n2023-02-03,Pass.7,1\\\\\\\\r\\\\\\\\n'\\\\n\\\\nsample_data = sample_data.replace('.1', '').replace('.2', '').replace('.3', '').replace('.4', '').replace('.5', '').replace('.6', '').replace('.7', '')\\\\n\\\\nsample_data = pd.read_csv(pd.compat.StringIO(sample_data))\\\\n\\\\n# Call the function\\\\nplot_graph(sample_data, 'test_execution_over_time')\",\n",
    "    \"import pandas as pd\\\\nimport plotly.graph_objects as go\\\\nimport plotly.io as pio\\\\nimport os\\\\n\\\\ndef plot_graph(data, save_filename):\\\\n    # Create results directory if not exists\\\\n    if not os.path.exists('results'):\\\\n        os.makedirs('results')\\\\n\\\\n    # Create bar chart\\\\n    fig = go.Figure(data=[\\\\n        go.Bar(name='Passed', x=data[data['status']=='Pass']['date'], y=data[data['status']=='Pass']['count']),\\\\n        go.Bar(name='Failed', x=data[data['status']=='Fail']['date'], y=data[data['status']=='Fail']['count'])\\\\n    ])\\\\n\\\\n    # Change the bar mode\\\\n    fig.update_layout(barmode='group')\\\\n\\\\n    # Save the figure as png image\\\\n    fig.write_image('results/' + save_filename + '.png')\\\\n\\\\n    # Save the figure as json\\\\n    with open('results/' + save_filename + '.json', 'w') as json_file:\\\\n        json_file.write(fig.to_json())\\\\n\\\\n    return 'Graph has been saved successfully.'\\\\n\\\\n# Test the function\\\\nsample_data = pd.read_csv('sample_data.csv')\\\\nplot_graph(sample_data, 'test_execution_duration')\"\n",
    "]\n",
    "for i in graph_args:\n",
    "    formatted_code = textwrap.dedent(i)\n",
    "    with open(f\"grapcode.txt\", 'w') as fp:\n",
    "        fp.write(formatted_code)"
   ]
  },
  {
   "cell_type": "code",
   "execution_count": 1,
   "metadata": {},
   "outputs": [
    {
     "name": "stdout",
     "output_type": "stream",
     "text": [
      "5b29aa85-3e08-41ee-9e6f-20f9c651678e\n"
     ]
    }
   ],
   "source": [
    "import uuid\n",
    "\n",
    "graph_uuid = str(uuid.uuid4())\n",
    "print(graph_uuid)"
   ]
  },
  {
   "cell_type": "code",
   "execution_count": null,
   "metadata": {},
   "outputs": [],
   "source": [
    "import pandas as pd\n",
    "import plotly.graph_objects as go\n",
    "import plotly.io as pio\n",
    "import os\n",
    "import json\n",
    "\n",
    "# Function to plot graph\n",
    "\n",
    "\n",
    "def plot_graph(data, save_filename):\n",
    "    # Create results directory if not exists\n",
    "    if not os.path.exists('results'):\n",
    "        os.makedirs('results')\n",
    "\n",
    "    # Create bar chart\n",
    "    fig = go.Figure(data=[go.Bar(x=data['status'], y=data['count'])])\n",
    "\n",
    "    # Set title\n",
    "    fig.update_layout(title_text='Test Execution Status')\n",
    "\n",
    "    # Save the figure as png image\n",
    "    pio.write_image(fig, f'results/{save_filename}.png')\n",
    "\n",
    "    # Save the figure as json\n",
    "    fig_json = fig.to_json()\n",
    "    with open(f'results/{save_filename}.json', 'w') as json_file:\n",
    "        json.dump(json.loads(fig_json), json_file)\n",
    "\n",
    "\n",
    "# Load data from csv\n",
    "try:\n",
    "    sample_data = pd.read_csv('sample_data.csv')\n",
    "except FileNotFoundError:\n",
    "    print(\n",
    "        'File not found. Please ensure the file sample_data.csv is in the correct directory.'\n",
    "    )\n",
    "\n",
    "# Call the function\n",
    "try:\n",
    "    plot_graph(sample_data, 'test_execution_status')\n",
    "except NameError:\n",
    "    print('Data not loaded due to missing file.')"
   ]
  },
  {
   "cell_type": "code",
   "execution_count": 7,
   "metadata": {},
   "outputs": [
    {
     "name": "stdout",
     "output_type": "stream",
     "text": [
      "  execution_status  number_of_executions\n",
      "0        COMPLETED                    33\n",
      "         execution_date  total_executions  passed_executions  \\\n",
      "0   2022-09-21 06:31:51                 1                1.0   \n",
      "1   2022-09-21 06:38:19                 1                1.0   \n",
      "2   2022-09-21 06:42:14                 1                0.0   \n",
      "3   2022-09-21 07:31:23                 1                1.0   \n",
      "4   2022-09-21 07:35:49                 1                0.0   \n",
      "5   2022-09-22 14:19:10                 1                0.0   \n",
      "6   2022-09-22 14:24:30                 1                0.0   \n",
      "7   2022-09-22 14:28:23                 1                1.0   \n",
      "8   2022-09-22 14:32:19                 1                1.0   \n",
      "9   2022-09-22 14:36:36                 1                0.0   \n",
      "10  2022-09-23 12:19:03                 1                1.0   \n",
      "11  2022-09-23 12:23:03                 1                0.0   \n",
      "12  2022-09-23 18:11:25                 1                0.0   \n",
      "13  2022-09-23 18:33:39                 1                0.0   \n",
      "14  2022-09-23 18:36:58                 1                1.0   \n",
      "15  2022-09-23 18:40:02                 1                0.0   \n",
      "16  2022-09-26 06:45:57                 1                1.0   \n",
      "17  2022-09-26 06:48:36                 1                0.0   \n",
      "18  2022-09-26 07:14:20                 1                1.0   \n",
      "19  2022-09-26 07:20:24                 1                0.0   \n",
      "20  2022-09-26 14:29:22                 1                1.0   \n",
      "21  2022-09-26 14:34:33                 1                1.0   \n",
      "22  2022-10-03 14:33:31                 1                1.0   \n",
      "23  2022-10-03 16:23:01                 1                0.0   \n",
      "24  2022-10-03 16:50:13                 1                1.0   \n",
      "25  2022-10-03 16:52:20                 1                0.0   \n",
      "26  2023-01-19 11:32:39                 1                1.0   \n",
      "27  2023-01-19 11:38:50                 1                1.0   \n",
      "28  2023-01-19 11:39:25                 1                1.0   \n",
      "29  2023-01-23 05:44:05                 1                1.0   \n",
      "30  2023-01-23 05:53:54                 1                1.0   \n",
      "31  2023-01-23 08:54:52                 1                0.0   \n",
      "32  2023-02-03 04:09:34                 1                1.0   \n",
      "\n",
      "    failed_executions  \n",
      "0                 0.0  \n",
      "1                 0.0  \n",
      "2                 1.0  \n",
      "3                 0.0  \n",
      "4                 1.0  \n",
      "5                 1.0  \n",
      "6                 1.0  \n",
      "7                 0.0  \n",
      "8                 0.0  \n",
      "9                 1.0  \n",
      "10                0.0  \n",
      "11                1.0  \n",
      "12                1.0  \n",
      "13                1.0  \n",
      "14                0.0  \n",
      "15                1.0  \n",
      "16                0.0  \n",
      "17                1.0  \n",
      "18                0.0  \n",
      "19                1.0  \n",
      "20                0.0  \n",
      "21                0.0  \n",
      "22                0.0  \n",
      "23                1.0  \n",
      "24                0.0  \n",
      "25                1.0  \n",
      "26                0.0  \n",
      "27                0.0  \n",
      "28                0.0  \n",
      "29                0.0  \n",
      "30                0.0  \n",
      "31                1.0  \n",
      "32                0.0  \n",
      "        project_name  total_executions  passed_executions  failed_executions\n",
      "0  Project Moon Base                 0               17.0               14.0\n",
      "1        Waldo tests                 0                2.0                0.0\n"
     ]
    }
   ],
   "source": [
    "from io import StringIO\n",
    "import pandas as pd\n",
    "\n",
    "data_list = [\n",
    "    'execution_status,number_of_executions\\r\\nCOMPLETED,33\\r\\n',\n",
    "    'execution_date,total_executions,passed_executions,failed_executions\\r\\n2022-09-21 06:31:51,1,1.0,0.0\\r\\n2022-09-21 06:38:19,1,1.0,0.0\\r\\n2022-09-21 06:42:14,1,0.0,1.0\\r\\n2022-09-21 07:31:23,1,1.0,0.0\\r\\n2022-09-21 07:35:49,1,0.0,1.0\\r\\n2022-09-22 14:19:10,1,0.0,1.0\\r\\n2022-09-22 14:24:30,1,0.0,1.0\\r\\n2022-09-22 14:28:23,1,1.0,0.0\\r\\n2022-09-22 14:32:19,1,1.0,0.0\\r\\n2022-09-22 14:36:36,1,0.0,1.0\\r\\n2022-09-23 12:19:03,1,1.0,0.0\\r\\n2022-09-23 12:23:03,1,0.0,1.0\\r\\n2022-09-23 18:11:25,1,0.0,1.0\\r\\n2022-09-23 18:33:39,1,0.0,1.0\\r\\n2022-09-23 18:36:58,1,1.0,0.0\\r\\n2022-09-23 18:40:02,1,0.0,1.0\\r\\n2022-09-26 06:45:57,1,1.0,0.0\\r\\n2022-09-26 06:48:36,1,0.0,1.0\\r\\n2022-09-26 07:14:20,1,1.0,0.0\\r\\n2022-09-26 07:20:24,1,0.0,1.0\\r\\n2022-09-26 14:29:22,1,1.0,0.0\\r\\n2022-09-26 14:34:33,1,1.0,0.0\\r\\n2022-10-03 14:33:31,1,1.0,0.0\\r\\n2022-10-03 16:23:01,1,0.0,1.0\\r\\n2022-10-03 16:50:13,1,1.0,0.0\\r\\n2022-10-03 16:52:20,1,0.0,1.0\\r\\n2023-01-19 11:32:39,1,1.0,0.0\\r\\n2023-01-19 11:38:50,1,1.0,0.0\\r\\n2023-01-19 11:39:25,1,1.0,0.0\\r\\n2023-01-23 05:44:05,1,1.0,0.0\\r\\n2023-01-23 05:53:54,1,1.0,0.0\\r\\n2023-01-23 08:54:52,1,0.0,1.0\\r\\n2023-02-03 04:09:34,1,1.0,0.0\\r\\n',\n",
    "    'project_name,total_executions,passed_executions,failed_executions\\r\\nProject Moon Base,0,17.0,14.0\\r\\nWaldo tests,0,2.0,0.0\\r\\n'\n",
    "]\n",
    "\n",
    "data_frames = [pd.read_csv(StringIO(data)) for data in data_list]\n",
    "for data in data_frames:\n",
    "    print(data)\n",
    "\n",
    "# Show the output\n",
    "# for i, df in enumerate(data_frames):\n",
    "# print(data_frames)\n",
    "# selected_rows_data_frames = [df.head(2) for df in data_frames]\n",
    "# # print(selected_rows_data_frames)\n",
    "# for self in selected_rows_data_frames:\n",
    "#     print(self)\n"
   ]
  },
  {
   "cell_type": "code",
   "execution_count": 2,
   "metadata": {},
   "outputs": [
    {
     "name": "stdout",
     "output_type": "stream",
     "text": [
      "Index 1: execution_status,number_of_executions\n",
      "COMPLETED,33\n",
      "\n",
      "\n",
      "\n",
      "Index 1: execution_date,total_executions,passed_executions,failed_executions\n",
      "2022-09-21 06:31:51,1,1.0,0.0\n",
      "2022-09-21 06:38:19,1,1.0,0.0\n",
      "2022-09-21 06:42:14,1,0.0,1.0\n",
      "2022-09-21 07:31:23,1,1.0,0.0\n",
      "2022-09-21 07:35:49,1,0.0,1.0\n",
      "2022-09-22 14:19:10,1,0.0,1.0\n",
      "2022-09-22 14:24:30,1,0.0,1.0\n",
      "2022-09-22 14:28:23,1,1.0,0.0\n",
      "2022-09-22 14:32:19,1,1.0,0.0\n",
      "2022-09-22 14:36:36,1,0.0,1.0\n",
      "2022-09-23 12:19:03,1,1.0,0.0\n",
      "2022-09-23 12:23:03,1,0.0,1.0\n",
      "2022-09-23 18:11:25,1,0.0,1.0\n",
      "2022-09-23 18:33:39,1,0.0,1.0\n",
      "2022-09-23 18:36:58,1,1.0,0.0\n",
      "2022-09-23 18:40:02,1,0.0,1.0\n",
      "2022-09-26 06:45:57,1,1.0,0.0\n",
      "2022-09-26 06:48:36,1,0.0,1.0\n",
      "2022-09-26 07:14:20,1,1.0,0.0\n",
      "2022-09-26 07:20:24,1,0.0,1.0\n",
      "2022-09-26 14:29:22,1,1.0,0.0\n",
      "2022-09-26 14:34:33,1,1.0,0.0\n",
      "2022-10-03 14:33:31,1,1.0,0.0\n",
      "2022-10-03 16:23:01,1,0.0,1.0\n",
      "2022-10-03 16:50:13,1,1.0,0.0\n",
      "2022-10-03 16:52:20,1,0.0,1.0\n",
      "2023-01-19 11:32:39,1,1.0,0.0\n",
      "2023-01-19 11:38:50,1,1.0,0.0\n",
      "2023-01-19 11:39:25,1,1.0,0.0\n",
      "2023-01-23 05:44:05,1,1.0,0.0\n",
      "2023-01-23 05:53:54,1,1.0,0.0\n",
      "2023-01-23 08:54:52,1,0.0,1.0\n",
      "2023-02-03 04:09:34,1,1.0,0.0\n",
      "\n",
      "\n",
      "\n",
      "Index 1: project_name,total_executions,passed_executions,failed_executions\n",
      "Project Moon Base,0,17.0,14.0\n",
      "Waldo tests,0,2.0,0.0\n",
      "\n",
      "\n",
      "\n"
     ]
    }
   ],
   "source": [
    "data_list = [\n",
    "    'execution_status,number_of_executions\\r\\nCOMPLETED,33\\r\\n',\n",
    "    'execution_date,total_executions,passed_executions,failed_executions\\r\\n2022-09-21 06:31:51,1,1.0,0.0\\r\\n2022-09-21 06:38:19,1,1.0,0.0\\r\\n2022-09-21 06:42:14,1,0.0,1.0\\r\\n2022-09-21 07:31:23,1,1.0,0.0\\r\\n2022-09-21 07:35:49,1,0.0,1.0\\r\\n2022-09-22 14:19:10,1,0.0,1.0\\r\\n2022-09-22 14:24:30,1,0.0,1.0\\r\\n2022-09-22 14:28:23,1,1.0,0.0\\r\\n2022-09-22 14:32:19,1,1.0,0.0\\r\\n2022-09-22 14:36:36,1,0.0,1.0\\r\\n2022-09-23 12:19:03,1,1.0,0.0\\r\\n2022-09-23 12:23:03,1,0.0,1.0\\r\\n2022-09-23 18:11:25,1,0.0,1.0\\r\\n2022-09-23 18:33:39,1,0.0,1.0\\r\\n2022-09-23 18:36:58,1,1.0,0.0\\r\\n2022-09-23 18:40:02,1,0.0,1.0\\r\\n2022-09-26 06:45:57,1,1.0,0.0\\r\\n2022-09-26 06:48:36,1,0.0,1.0\\r\\n2022-09-26 07:14:20,1,1.0,0.0\\r\\n2022-09-26 07:20:24,1,0.0,1.0\\r\\n2022-09-26 14:29:22,1,1.0,0.0\\r\\n2022-09-26 14:34:33,1,1.0,0.0\\r\\n2022-10-03 14:33:31,1,1.0,0.0\\r\\n2022-10-03 16:23:01,1,0.0,1.0\\r\\n2022-10-03 16:50:13,1,1.0,0.0\\r\\n2022-10-03 16:52:20,1,0.0,1.0\\r\\n2023-01-19 11:32:39,1,1.0,0.0\\r\\n2023-01-19 11:38:50,1,1.0,0.0\\r\\n2023-01-19 11:39:25,1,1.0,0.0\\r\\n2023-01-23 05:44:05,1,1.0,0.0\\r\\n2023-01-23 05:53:54,1,1.0,0.0\\r\\n2023-01-23 08:54:52,1,0.0,1.0\\r\\n2023-02-03 04:09:34,1,1.0,0.0\\r\\n',\n",
    "    'project_name,total_executions,passed_executions,failed_executions\\r\\nProject Moon Base,0,17.0,14.0\\r\\nWaldo tests,0,2.0,0.0\\r\\n'\n",
    "]\n",
    "\n",
    "# Loop through the list\n",
    "for data in data_list:\n",
    "    # Split the string into lines\n",
    "    print(\"Index 1:\", data)\n",
    "    print(\"\\n\")\n"
   ]
  },
  {
   "cell_type": "code",
   "execution_count": 1,
   "metadata": {},
   "outputs": [
    {
     "name": "stdout",
     "output_type": "stream",
     "text": [
      "I am here\n"
     ]
    },
    {
     "data": {
      "application/vnd.plotly.v1+json": {
       "config": {
        "plotlyServerURL": "https://plot.ly"
       },
       "data": [
        {
         "name": "Test Execution Status",
         "type": "bar",
         "x": [
          "Fail",
          "Pass"
         ],
         "y": [
          14,
          19
         ]
        }
       ],
       "layout": {
        "template": {
         "data": {
          "bar": [
           {
            "error_x": {
             "color": "#2a3f5f"
            },
            "error_y": {
             "color": "#2a3f5f"
            },
            "marker": {
             "line": {
              "color": "#E5ECF6",
              "width": 0.5
             },
             "pattern": {
              "fillmode": "overlay",
              "size": 10,
              "solidity": 0.2
             }
            },
            "type": "bar"
           }
          ],
          "barpolar": [
           {
            "marker": {
             "line": {
              "color": "#E5ECF6",
              "width": 0.5
             },
             "pattern": {
              "fillmode": "overlay",
              "size": 10,
              "solidity": 0.2
             }
            },
            "type": "barpolar"
           }
          ],
          "carpet": [
           {
            "aaxis": {
             "endlinecolor": "#2a3f5f",
             "gridcolor": "white",
             "linecolor": "white",
             "minorgridcolor": "white",
             "startlinecolor": "#2a3f5f"
            },
            "baxis": {
             "endlinecolor": "#2a3f5f",
             "gridcolor": "white",
             "linecolor": "white",
             "minorgridcolor": "white",
             "startlinecolor": "#2a3f5f"
            },
            "type": "carpet"
           }
          ],
          "choropleth": [
           {
            "colorbar": {
             "outlinewidth": 0,
             "ticks": ""
            },
            "type": "choropleth"
           }
          ],
          "contour": [
           {
            "colorbar": {
             "outlinewidth": 0,
             "ticks": ""
            },
            "colorscale": [
             [
              0,
              "#0d0887"
             ],
             [
              0.1111111111111111,
              "#46039f"
             ],
             [
              0.2222222222222222,
              "#7201a8"
             ],
             [
              0.3333333333333333,
              "#9c179e"
             ],
             [
              0.4444444444444444,
              "#bd3786"
             ],
             [
              0.5555555555555556,
              "#d8576b"
             ],
             [
              0.6666666666666666,
              "#ed7953"
             ],
             [
              0.7777777777777778,
              "#fb9f3a"
             ],
             [
              0.8888888888888888,
              "#fdca26"
             ],
             [
              1,
              "#f0f921"
             ]
            ],
            "type": "contour"
           }
          ],
          "contourcarpet": [
           {
            "colorbar": {
             "outlinewidth": 0,
             "ticks": ""
            },
            "type": "contourcarpet"
           }
          ],
          "heatmap": [
           {
            "colorbar": {
             "outlinewidth": 0,
             "ticks": ""
            },
            "colorscale": [
             [
              0,
              "#0d0887"
             ],
             [
              0.1111111111111111,
              "#46039f"
             ],
             [
              0.2222222222222222,
              "#7201a8"
             ],
             [
              0.3333333333333333,
              "#9c179e"
             ],
             [
              0.4444444444444444,
              "#bd3786"
             ],
             [
              0.5555555555555556,
              "#d8576b"
             ],
             [
              0.6666666666666666,
              "#ed7953"
             ],
             [
              0.7777777777777778,
              "#fb9f3a"
             ],
             [
              0.8888888888888888,
              "#fdca26"
             ],
             [
              1,
              "#f0f921"
             ]
            ],
            "type": "heatmap"
           }
          ],
          "heatmapgl": [
           {
            "colorbar": {
             "outlinewidth": 0,
             "ticks": ""
            },
            "colorscale": [
             [
              0,
              "#0d0887"
             ],
             [
              0.1111111111111111,
              "#46039f"
             ],
             [
              0.2222222222222222,
              "#7201a8"
             ],
             [
              0.3333333333333333,
              "#9c179e"
             ],
             [
              0.4444444444444444,
              "#bd3786"
             ],
             [
              0.5555555555555556,
              "#d8576b"
             ],
             [
              0.6666666666666666,
              "#ed7953"
             ],
             [
              0.7777777777777778,
              "#fb9f3a"
             ],
             [
              0.8888888888888888,
              "#fdca26"
             ],
             [
              1,
              "#f0f921"
             ]
            ],
            "type": "heatmapgl"
           }
          ],
          "histogram": [
           {
            "marker": {
             "pattern": {
              "fillmode": "overlay",
              "size": 10,
              "solidity": 0.2
             }
            },
            "type": "histogram"
           }
          ],
          "histogram2d": [
           {
            "colorbar": {
             "outlinewidth": 0,
             "ticks": ""
            },
            "colorscale": [
             [
              0,
              "#0d0887"
             ],
             [
              0.1111111111111111,
              "#46039f"
             ],
             [
              0.2222222222222222,
              "#7201a8"
             ],
             [
              0.3333333333333333,
              "#9c179e"
             ],
             [
              0.4444444444444444,
              "#bd3786"
             ],
             [
              0.5555555555555556,
              "#d8576b"
             ],
             [
              0.6666666666666666,
              "#ed7953"
             ],
             [
              0.7777777777777778,
              "#fb9f3a"
             ],
             [
              0.8888888888888888,
              "#fdca26"
             ],
             [
              1,
              "#f0f921"
             ]
            ],
            "type": "histogram2d"
           }
          ],
          "histogram2dcontour": [
           {
            "colorbar": {
             "outlinewidth": 0,
             "ticks": ""
            },
            "colorscale": [
             [
              0,
              "#0d0887"
             ],
             [
              0.1111111111111111,
              "#46039f"
             ],
             [
              0.2222222222222222,
              "#7201a8"
             ],
             [
              0.3333333333333333,
              "#9c179e"
             ],
             [
              0.4444444444444444,
              "#bd3786"
             ],
             [
              0.5555555555555556,
              "#d8576b"
             ],
             [
              0.6666666666666666,
              "#ed7953"
             ],
             [
              0.7777777777777778,
              "#fb9f3a"
             ],
             [
              0.8888888888888888,
              "#fdca26"
             ],
             [
              1,
              "#f0f921"
             ]
            ],
            "type": "histogram2dcontour"
           }
          ],
          "mesh3d": [
           {
            "colorbar": {
             "outlinewidth": 0,
             "ticks": ""
            },
            "type": "mesh3d"
           }
          ],
          "parcoords": [
           {
            "line": {
             "colorbar": {
              "outlinewidth": 0,
              "ticks": ""
             }
            },
            "type": "parcoords"
           }
          ],
          "pie": [
           {
            "automargin": true,
            "type": "pie"
           }
          ],
          "scatter": [
           {
            "fillpattern": {
             "fillmode": "overlay",
             "size": 10,
             "solidity": 0.2
            },
            "type": "scatter"
           }
          ],
          "scatter3d": [
           {
            "line": {
             "colorbar": {
              "outlinewidth": 0,
              "ticks": ""
             }
            },
            "marker": {
             "colorbar": {
              "outlinewidth": 0,
              "ticks": ""
             }
            },
            "type": "scatter3d"
           }
          ],
          "scattercarpet": [
           {
            "marker": {
             "colorbar": {
              "outlinewidth": 0,
              "ticks": ""
             }
            },
            "type": "scattercarpet"
           }
          ],
          "scattergeo": [
           {
            "marker": {
             "colorbar": {
              "outlinewidth": 0,
              "ticks": ""
             }
            },
            "type": "scattergeo"
           }
          ],
          "scattergl": [
           {
            "marker": {
             "colorbar": {
              "outlinewidth": 0,
              "ticks": ""
             }
            },
            "type": "scattergl"
           }
          ],
          "scattermapbox": [
           {
            "marker": {
             "colorbar": {
              "outlinewidth": 0,
              "ticks": ""
             }
            },
            "type": "scattermapbox"
           }
          ],
          "scatterpolar": [
           {
            "marker": {
             "colorbar": {
              "outlinewidth": 0,
              "ticks": ""
             }
            },
            "type": "scatterpolar"
           }
          ],
          "scatterpolargl": [
           {
            "marker": {
             "colorbar": {
              "outlinewidth": 0,
              "ticks": ""
             }
            },
            "type": "scatterpolargl"
           }
          ],
          "scatterternary": [
           {
            "marker": {
             "colorbar": {
              "outlinewidth": 0,
              "ticks": ""
             }
            },
            "type": "scatterternary"
           }
          ],
          "surface": [
           {
            "colorbar": {
             "outlinewidth": 0,
             "ticks": ""
            },
            "colorscale": [
             [
              0,
              "#0d0887"
             ],
             [
              0.1111111111111111,
              "#46039f"
             ],
             [
              0.2222222222222222,
              "#7201a8"
             ],
             [
              0.3333333333333333,
              "#9c179e"
             ],
             [
              0.4444444444444444,
              "#bd3786"
             ],
             [
              0.5555555555555556,
              "#d8576b"
             ],
             [
              0.6666666666666666,
              "#ed7953"
             ],
             [
              0.7777777777777778,
              "#fb9f3a"
             ],
             [
              0.8888888888888888,
              "#fdca26"
             ],
             [
              1,
              "#f0f921"
             ]
            ],
            "type": "surface"
           }
          ],
          "table": [
           {
            "cells": {
             "fill": {
              "color": "#EBF0F8"
             },
             "line": {
              "color": "white"
             }
            },
            "header": {
             "fill": {
              "color": "#C8D4E3"
             },
             "line": {
              "color": "white"
             }
            },
            "type": "table"
           }
          ]
         },
         "layout": {
          "annotationdefaults": {
           "arrowcolor": "#2a3f5f",
           "arrowhead": 0,
           "arrowwidth": 1
          },
          "autotypenumbers": "strict",
          "coloraxis": {
           "colorbar": {
            "outlinewidth": 0,
            "ticks": ""
           }
          },
          "colorscale": {
           "diverging": [
            [
             0,
             "#8e0152"
            ],
            [
             0.1,
             "#c51b7d"
            ],
            [
             0.2,
             "#de77ae"
            ],
            [
             0.3,
             "#f1b6da"
            ],
            [
             0.4,
             "#fde0ef"
            ],
            [
             0.5,
             "#f7f7f7"
            ],
            [
             0.6,
             "#e6f5d0"
            ],
            [
             0.7,
             "#b8e186"
            ],
            [
             0.8,
             "#7fbc41"
            ],
            [
             0.9,
             "#4d9221"
            ],
            [
             1,
             "#276419"
            ]
           ],
           "sequential": [
            [
             0,
             "#0d0887"
            ],
            [
             0.1111111111111111,
             "#46039f"
            ],
            [
             0.2222222222222222,
             "#7201a8"
            ],
            [
             0.3333333333333333,
             "#9c179e"
            ],
            [
             0.4444444444444444,
             "#bd3786"
            ],
            [
             0.5555555555555556,
             "#d8576b"
            ],
            [
             0.6666666666666666,
             "#ed7953"
            ],
            [
             0.7777777777777778,
             "#fb9f3a"
            ],
            [
             0.8888888888888888,
             "#fdca26"
            ],
            [
             1,
             "#f0f921"
            ]
           ],
           "sequentialminus": [
            [
             0,
             "#0d0887"
            ],
            [
             0.1111111111111111,
             "#46039f"
            ],
            [
             0.2222222222222222,
             "#7201a8"
            ],
            [
             0.3333333333333333,
             "#9c179e"
            ],
            [
             0.4444444444444444,
             "#bd3786"
            ],
            [
             0.5555555555555556,
             "#d8576b"
            ],
            [
             0.6666666666666666,
             "#ed7953"
            ],
            [
             0.7777777777777778,
             "#fb9f3a"
            ],
            [
             0.8888888888888888,
             "#fdca26"
            ],
            [
             1,
             "#f0f921"
            ]
           ]
          },
          "colorway": [
           "#636efa",
           "#EF553B",
           "#00cc96",
           "#ab63fa",
           "#FFA15A",
           "#19d3f3",
           "#FF6692",
           "#B6E880",
           "#FF97FF",
           "#FECB52"
          ],
          "font": {
           "color": "#2a3f5f"
          },
          "geo": {
           "bgcolor": "white",
           "lakecolor": "white",
           "landcolor": "#E5ECF6",
           "showlakes": true,
           "showland": true,
           "subunitcolor": "white"
          },
          "hoverlabel": {
           "align": "left"
          },
          "hovermode": "closest",
          "mapbox": {
           "style": "light"
          },
          "paper_bgcolor": "white",
          "plot_bgcolor": "#E5ECF6",
          "polar": {
           "angularaxis": {
            "gridcolor": "white",
            "linecolor": "white",
            "ticks": ""
           },
           "bgcolor": "#E5ECF6",
           "radialaxis": {
            "gridcolor": "white",
            "linecolor": "white",
            "ticks": ""
           }
          },
          "scene": {
           "xaxis": {
            "backgroundcolor": "#E5ECF6",
            "gridcolor": "white",
            "gridwidth": 2,
            "linecolor": "white",
            "showbackground": true,
            "ticks": "",
            "zerolinecolor": "white"
           },
           "yaxis": {
            "backgroundcolor": "#E5ECF6",
            "gridcolor": "white",
            "gridwidth": 2,
            "linecolor": "white",
            "showbackground": true,
            "ticks": "",
            "zerolinecolor": "white"
           },
           "zaxis": {
            "backgroundcolor": "#E5ECF6",
            "gridcolor": "white",
            "gridwidth": 2,
            "linecolor": "white",
            "showbackground": true,
            "ticks": "",
            "zerolinecolor": "white"
           }
          },
          "shapedefaults": {
           "line": {
            "color": "#2a3f5f"
           }
          },
          "ternary": {
           "aaxis": {
            "gridcolor": "white",
            "linecolor": "white",
            "ticks": ""
           },
           "baxis": {
            "gridcolor": "white",
            "linecolor": "white",
            "ticks": ""
           },
           "bgcolor": "#E5ECF6",
           "caxis": {
            "gridcolor": "white",
            "linecolor": "white",
            "ticks": ""
           }
          },
          "title": {
           "x": 0.05
          },
          "xaxis": {
           "automargin": true,
           "gridcolor": "white",
           "linecolor": "white",
           "ticks": "",
           "title": {
            "standoff": 15
           },
           "zerolinecolor": "white",
           "zerolinewidth": 2
          },
          "yaxis": {
           "automargin": true,
           "gridcolor": "white",
           "linecolor": "white",
           "ticks": "",
           "title": {
            "standoff": 15
           },
           "zerolinecolor": "white",
           "zerolinewidth": 2
          }
         }
        },
        "title": {
         "text": "Test Execution Status"
        },
        "xaxis": {
         "title": {
          "text": "Status"
         }
        },
        "yaxis": {
         "title": {
          "text": "Count"
         }
        }
       }
      }
     },
     "metadata": {},
     "output_type": "display_data"
    },
    {
     "name": "stdout",
     "output_type": "stream",
     "text": [
      "I am here in try\n"
     ]
    }
   ],
   "source": [
    "import pandas as pd\n",
    "import plotly.graph_objects as go\n",
    "import os\n",
    "import json\n",
    "\n",
    "# Function to plot graph\n",
    "def plot_graph(data, save_filename):\n",
    "    # Create bar chart\n",
    "    fig = go.Figure(data=[\n",
    "        go.Bar(name='Test Execution Status', x=data['status'], y=data['count'])\n",
    "    ])\n",
    "    print(\"I am here\")\n",
    "\n",
    "    # Update layout\n",
    "    fig.update_layout(title='Test Execution Status', xaxis_title='Status', yaxis_title='Count')\n",
    "    \n",
    "    fig.show()\n",
    "\n",
    "    # Create results directory if not exists\n",
    "    if not os.path.exists('results'):\n",
    "        print(\"Created filename\")\n",
    "        os.makedirs('results')\n",
    "\n",
    "    # Save the figure as png image\n",
    "    # fig.write_image(f'results/{save_filename}.png')\n",
    "    try:\n",
    "        print(\"I am here in try\")\n",
    "        fig.write_image(f'results/{save_filename}.jpg')\n",
    "        with open(f'results/{save_filename}.json', 'w') as json_file:\n",
    "            json.dump(fig.to_dict(), json_file)\n",
    "    except Exception as e:\n",
    "        print(\"I am in exception\")\n",
    "        print(f\"Error: {e}\")\n",
    "\n",
    "    # Save the figure as json\n",
    "    with open(f'results/{save_filename}.json', 'w') as json_file:\n",
    "        json.dump(fig.to_dict(), json_file)\n",
    "\n",
    "# Sample data\n",
    "data = pd.DataFrame({\n",
    "    'status': ['Fail', 'Pass'],\n",
    "    'count': [14, 19]\n",
    "})\n",
    "\n",
    "# Call the function\n",
    "plot_graph(data, 'test_execution_status')\n",
    "# df_from_str=data\n",
    "# plot_graph(data=df_from_str, save_filename=\"harsh\")\n"
   ]
  },
  {
   "cell_type": "code",
   "execution_count": 3,
   "metadata": {},
   "outputs": [
    {
     "name": "stdout",
     "output_type": "stream",
     "text": [
      "I am here\n",
      "I am here in try\n"
     ]
    }
   ],
   "source": [
    "plot_graph(data, 'test_execution_status')"
   ]
  },
  {
   "cell_type": "code",
   "execution_count": 1,
   "metadata": {},
   "outputs": [
    {
     "data": {
      "application/vnd.plotly.v1+json": {
       "config": {
        "plotlyServerURL": "https://plot.ly"
       },
       "data": [
        {
         "name": "Test Execution Status",
         "type": "bar",
         "x": [
          "Fail",
          "Pass"
         ],
         "y": [
          7,
          14
         ]
        }
       ],
       "layout": {
        "barmode": "group",
        "template": {
         "data": {
          "bar": [
           {
            "error_x": {
             "color": "#2a3f5f"
            },
            "error_y": {
             "color": "#2a3f5f"
            },
            "marker": {
             "line": {
              "color": "#E5ECF6",
              "width": 0.5
             },
             "pattern": {
              "fillmode": "overlay",
              "size": 10,
              "solidity": 0.2
             }
            },
            "type": "bar"
           }
          ],
          "barpolar": [
           {
            "marker": {
             "line": {
              "color": "#E5ECF6",
              "width": 0.5
             },
             "pattern": {
              "fillmode": "overlay",
              "size": 10,
              "solidity": 0.2
             }
            },
            "type": "barpolar"
           }
          ],
          "carpet": [
           {
            "aaxis": {
             "endlinecolor": "#2a3f5f",
             "gridcolor": "white",
             "linecolor": "white",
             "minorgridcolor": "white",
             "startlinecolor": "#2a3f5f"
            },
            "baxis": {
             "endlinecolor": "#2a3f5f",
             "gridcolor": "white",
             "linecolor": "white",
             "minorgridcolor": "white",
             "startlinecolor": "#2a3f5f"
            },
            "type": "carpet"
           }
          ],
          "choropleth": [
           {
            "colorbar": {
             "outlinewidth": 0,
             "ticks": ""
            },
            "type": "choropleth"
           }
          ],
          "contour": [
           {
            "colorbar": {
             "outlinewidth": 0,
             "ticks": ""
            },
            "colorscale": [
             [
              0,
              "#0d0887"
             ],
             [
              0.1111111111111111,
              "#46039f"
             ],
             [
              0.2222222222222222,
              "#7201a8"
             ],
             [
              0.3333333333333333,
              "#9c179e"
             ],
             [
              0.4444444444444444,
              "#bd3786"
             ],
             [
              0.5555555555555556,
              "#d8576b"
             ],
             [
              0.6666666666666666,
              "#ed7953"
             ],
             [
              0.7777777777777778,
              "#fb9f3a"
             ],
             [
              0.8888888888888888,
              "#fdca26"
             ],
             [
              1,
              "#f0f921"
             ]
            ],
            "type": "contour"
           }
          ],
          "contourcarpet": [
           {
            "colorbar": {
             "outlinewidth": 0,
             "ticks": ""
            },
            "type": "contourcarpet"
           }
          ],
          "heatmap": [
           {
            "colorbar": {
             "outlinewidth": 0,
             "ticks": ""
            },
            "colorscale": [
             [
              0,
              "#0d0887"
             ],
             [
              0.1111111111111111,
              "#46039f"
             ],
             [
              0.2222222222222222,
              "#7201a8"
             ],
             [
              0.3333333333333333,
              "#9c179e"
             ],
             [
              0.4444444444444444,
              "#bd3786"
             ],
             [
              0.5555555555555556,
              "#d8576b"
             ],
             [
              0.6666666666666666,
              "#ed7953"
             ],
             [
              0.7777777777777778,
              "#fb9f3a"
             ],
             [
              0.8888888888888888,
              "#fdca26"
             ],
             [
              1,
              "#f0f921"
             ]
            ],
            "type": "heatmap"
           }
          ],
          "heatmapgl": [
           {
            "colorbar": {
             "outlinewidth": 0,
             "ticks": ""
            },
            "colorscale": [
             [
              0,
              "#0d0887"
             ],
             [
              0.1111111111111111,
              "#46039f"
             ],
             [
              0.2222222222222222,
              "#7201a8"
             ],
             [
              0.3333333333333333,
              "#9c179e"
             ],
             [
              0.4444444444444444,
              "#bd3786"
             ],
             [
              0.5555555555555556,
              "#d8576b"
             ],
             [
              0.6666666666666666,
              "#ed7953"
             ],
             [
              0.7777777777777778,
              "#fb9f3a"
             ],
             [
              0.8888888888888888,
              "#fdca26"
             ],
             [
              1,
              "#f0f921"
             ]
            ],
            "type": "heatmapgl"
           }
          ],
          "histogram": [
           {
            "marker": {
             "pattern": {
              "fillmode": "overlay",
              "size": 10,
              "solidity": 0.2
             }
            },
            "type": "histogram"
           }
          ],
          "histogram2d": [
           {
            "colorbar": {
             "outlinewidth": 0,
             "ticks": ""
            },
            "colorscale": [
             [
              0,
              "#0d0887"
             ],
             [
              0.1111111111111111,
              "#46039f"
             ],
             [
              0.2222222222222222,
              "#7201a8"
             ],
             [
              0.3333333333333333,
              "#9c179e"
             ],
             [
              0.4444444444444444,
              "#bd3786"
             ],
             [
              0.5555555555555556,
              "#d8576b"
             ],
             [
              0.6666666666666666,
              "#ed7953"
             ],
             [
              0.7777777777777778,
              "#fb9f3a"
             ],
             [
              0.8888888888888888,
              "#fdca26"
             ],
             [
              1,
              "#f0f921"
             ]
            ],
            "type": "histogram2d"
           }
          ],
          "histogram2dcontour": [
           {
            "colorbar": {
             "outlinewidth": 0,
             "ticks": ""
            },
            "colorscale": [
             [
              0,
              "#0d0887"
             ],
             [
              0.1111111111111111,
              "#46039f"
             ],
             [
              0.2222222222222222,
              "#7201a8"
             ],
             [
              0.3333333333333333,
              "#9c179e"
             ],
             [
              0.4444444444444444,
              "#bd3786"
             ],
             [
              0.5555555555555556,
              "#d8576b"
             ],
             [
              0.6666666666666666,
              "#ed7953"
             ],
             [
              0.7777777777777778,
              "#fb9f3a"
             ],
             [
              0.8888888888888888,
              "#fdca26"
             ],
             [
              1,
              "#f0f921"
             ]
            ],
            "type": "histogram2dcontour"
           }
          ],
          "mesh3d": [
           {
            "colorbar": {
             "outlinewidth": 0,
             "ticks": ""
            },
            "type": "mesh3d"
           }
          ],
          "parcoords": [
           {
            "line": {
             "colorbar": {
              "outlinewidth": 0,
              "ticks": ""
             }
            },
            "type": "parcoords"
           }
          ],
          "pie": [
           {
            "automargin": true,
            "type": "pie"
           }
          ],
          "scatter": [
           {
            "fillpattern": {
             "fillmode": "overlay",
             "size": 10,
             "solidity": 0.2
            },
            "type": "scatter"
           }
          ],
          "scatter3d": [
           {
            "line": {
             "colorbar": {
              "outlinewidth": 0,
              "ticks": ""
             }
            },
            "marker": {
             "colorbar": {
              "outlinewidth": 0,
              "ticks": ""
             }
            },
            "type": "scatter3d"
           }
          ],
          "scattercarpet": [
           {
            "marker": {
             "colorbar": {
              "outlinewidth": 0,
              "ticks": ""
             }
            },
            "type": "scattercarpet"
           }
          ],
          "scattergeo": [
           {
            "marker": {
             "colorbar": {
              "outlinewidth": 0,
              "ticks": ""
             }
            },
            "type": "scattergeo"
           }
          ],
          "scattergl": [
           {
            "marker": {
             "colorbar": {
              "outlinewidth": 0,
              "ticks": ""
             }
            },
            "type": "scattergl"
           }
          ],
          "scattermapbox": [
           {
            "marker": {
             "colorbar": {
              "outlinewidth": 0,
              "ticks": ""
             }
            },
            "type": "scattermapbox"
           }
          ],
          "scatterpolar": [
           {
            "marker": {
             "colorbar": {
              "outlinewidth": 0,
              "ticks": ""
             }
            },
            "type": "scatterpolar"
           }
          ],
          "scatterpolargl": [
           {
            "marker": {
             "colorbar": {
              "outlinewidth": 0,
              "ticks": ""
             }
            },
            "type": "scatterpolargl"
           }
          ],
          "scatterternary": [
           {
            "marker": {
             "colorbar": {
              "outlinewidth": 0,
              "ticks": ""
             }
            },
            "type": "scatterternary"
           }
          ],
          "surface": [
           {
            "colorbar": {
             "outlinewidth": 0,
             "ticks": ""
            },
            "colorscale": [
             [
              0,
              "#0d0887"
             ],
             [
              0.1111111111111111,
              "#46039f"
             ],
             [
              0.2222222222222222,
              "#7201a8"
             ],
             [
              0.3333333333333333,
              "#9c179e"
             ],
             [
              0.4444444444444444,
              "#bd3786"
             ],
             [
              0.5555555555555556,
              "#d8576b"
             ],
             [
              0.6666666666666666,
              "#ed7953"
             ],
             [
              0.7777777777777778,
              "#fb9f3a"
             ],
             [
              0.8888888888888888,
              "#fdca26"
             ],
             [
              1,
              "#f0f921"
             ]
            ],
            "type": "surface"
           }
          ],
          "table": [
           {
            "cells": {
             "fill": {
              "color": "#EBF0F8"
             },
             "line": {
              "color": "white"
             }
            },
            "header": {
             "fill": {
              "color": "#C8D4E3"
             },
             "line": {
              "color": "white"
             }
            },
            "type": "table"
           }
          ]
         },
         "layout": {
          "annotationdefaults": {
           "arrowcolor": "#2a3f5f",
           "arrowhead": 0,
           "arrowwidth": 1
          },
          "autotypenumbers": "strict",
          "coloraxis": {
           "colorbar": {
            "outlinewidth": 0,
            "ticks": ""
           }
          },
          "colorscale": {
           "diverging": [
            [
             0,
             "#8e0152"
            ],
            [
             0.1,
             "#c51b7d"
            ],
            [
             0.2,
             "#de77ae"
            ],
            [
             0.3,
             "#f1b6da"
            ],
            [
             0.4,
             "#fde0ef"
            ],
            [
             0.5,
             "#f7f7f7"
            ],
            [
             0.6,
             "#e6f5d0"
            ],
            [
             0.7,
             "#b8e186"
            ],
            [
             0.8,
             "#7fbc41"
            ],
            [
             0.9,
             "#4d9221"
            ],
            [
             1,
             "#276419"
            ]
           ],
           "sequential": [
            [
             0,
             "#0d0887"
            ],
            [
             0.1111111111111111,
             "#46039f"
            ],
            [
             0.2222222222222222,
             "#7201a8"
            ],
            [
             0.3333333333333333,
             "#9c179e"
            ],
            [
             0.4444444444444444,
             "#bd3786"
            ],
            [
             0.5555555555555556,
             "#d8576b"
            ],
            [
             0.6666666666666666,
             "#ed7953"
            ],
            [
             0.7777777777777778,
             "#fb9f3a"
            ],
            [
             0.8888888888888888,
             "#fdca26"
            ],
            [
             1,
             "#f0f921"
            ]
           ],
           "sequentialminus": [
            [
             0,
             "#0d0887"
            ],
            [
             0.1111111111111111,
             "#46039f"
            ],
            [
             0.2222222222222222,
             "#7201a8"
            ],
            [
             0.3333333333333333,
             "#9c179e"
            ],
            [
             0.4444444444444444,
             "#bd3786"
            ],
            [
             0.5555555555555556,
             "#d8576b"
            ],
            [
             0.6666666666666666,
             "#ed7953"
            ],
            [
             0.7777777777777778,
             "#fb9f3a"
            ],
            [
             0.8888888888888888,
             "#fdca26"
            ],
            [
             1,
             "#f0f921"
            ]
           ]
          },
          "colorway": [
           "#636efa",
           "#EF553B",
           "#00cc96",
           "#ab63fa",
           "#FFA15A",
           "#19d3f3",
           "#FF6692",
           "#B6E880",
           "#FF97FF",
           "#FECB52"
          ],
          "font": {
           "color": "#2a3f5f"
          },
          "geo": {
           "bgcolor": "white",
           "lakecolor": "white",
           "landcolor": "#E5ECF6",
           "showlakes": true,
           "showland": true,
           "subunitcolor": "white"
          },
          "hoverlabel": {
           "align": "left"
          },
          "hovermode": "closest",
          "mapbox": {
           "style": "light"
          },
          "paper_bgcolor": "white",
          "plot_bgcolor": "#E5ECF6",
          "polar": {
           "angularaxis": {
            "gridcolor": "white",
            "linecolor": "white",
            "ticks": ""
           },
           "bgcolor": "#E5ECF6",
           "radialaxis": {
            "gridcolor": "white",
            "linecolor": "white",
            "ticks": ""
           }
          },
          "scene": {
           "xaxis": {
            "backgroundcolor": "#E5ECF6",
            "gridcolor": "white",
            "gridwidth": 2,
            "linecolor": "white",
            "showbackground": true,
            "ticks": "",
            "zerolinecolor": "white"
           },
           "yaxis": {
            "backgroundcolor": "#E5ECF6",
            "gridcolor": "white",
            "gridwidth": 2,
            "linecolor": "white",
            "showbackground": true,
            "ticks": "",
            "zerolinecolor": "white"
           },
           "zaxis": {
            "backgroundcolor": "#E5ECF6",
            "gridcolor": "white",
            "gridwidth": 2,
            "linecolor": "white",
            "showbackground": true,
            "ticks": "",
            "zerolinecolor": "white"
           }
          },
          "shapedefaults": {
           "line": {
            "color": "#2a3f5f"
           }
          },
          "ternary": {
           "aaxis": {
            "gridcolor": "white",
            "linecolor": "white",
            "ticks": ""
           },
           "baxis": {
            "gridcolor": "white",
            "linecolor": "white",
            "ticks": ""
           },
           "bgcolor": "#E5ECF6",
           "caxis": {
            "gridcolor": "white",
            "linecolor": "white",
            "ticks": ""
           }
          },
          "title": {
           "x": 0.05
          },
          "xaxis": {
           "automargin": true,
           "gridcolor": "white",
           "linecolor": "white",
           "ticks": "",
           "title": {
            "standoff": 15
           },
           "zerolinecolor": "white",
           "zerolinewidth": 2
          },
          "yaxis": {
           "automargin": true,
           "gridcolor": "white",
           "linecolor": "white",
           "ticks": "",
           "title": {
            "standoff": 15
           },
           "zerolinecolor": "white",
           "zerolinewidth": 2
          }
         }
        }
       }
      }
     },
     "metadata": {},
     "output_type": "display_data"
    }
   ],
   "source": [
    "import plotly.graph_objects as go\n",
    "import pandas as pd\n",
    "import os\n",
    "\n",
    "# Create sample data\n",
    "data = {'status': ['Fail', 'Pass'], 'COUNT(*)': [7, 14]}\n",
    "df = pd.DataFrame(data)\n",
    "\n",
    "# Create a bar chart\n",
    "fig = go.Figure(data=[\n",
    "    go.Bar(name='Test Execution Status', x=df['status'], y=df['COUNT(*)'])\n",
    "])\n",
    "\n",
    "# Change the bar mode\n",
    "fig.update_layout(barmode='group')\n",
    "\n",
    "# Display the figure\n",
    "fig.show()\n",
    "save_path = 'D:\\\\Report-Bot\\\\Report-Bot\\\\results\\\\example_plot.png'\n",
    "\n",
    "if not os.path.exists('D:\\\\Report-Bot\\\\Report-Bot\\\\results'):\n",
    "    os.makedirs('D:\\\\Report-Bot\\\\Report-Bot\\\\results')\n",
    "\n",
    "# Save the figure as a PNG image\n",
    "fig.write_image(save_path)\n"
   ]
  }
 ],
 "metadata": {
  "kernelspec": {
   "display_name": "report-agent",
   "language": "python",
   "name": "python3"
  },
  "language_info": {
   "codemirror_mode": {
    "name": "ipython",
    "version": 3
   },
   "file_extension": ".py",
   "mimetype": "text/x-python",
   "name": "python",
   "nbconvert_exporter": "python",
   "pygments_lexer": "ipython3",
   "version": "3.11.5"
  }
 },
 "nbformat": 4,
 "nbformat_minor": 2
}
