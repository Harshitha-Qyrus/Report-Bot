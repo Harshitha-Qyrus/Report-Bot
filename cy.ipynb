{
 "cells": [
  {
   "cell_type": "code",
   "execution_count": 1,
   "metadata": {},
   "outputs": [],
   "source": [
    "import textwrap\n",
    "\n",
    "graph_args = [\n",
    "    \"import pandas as pd\\\\nimport plotly.graph_objects as go\\\\nimport plotly.io as pio\\\\nimport os\\\\n\\\\n# Function to plot graph\\\\n\\\\ndef plot_graph(data, save_filename):\\\\n    # Create results directory if not exists\\\\n    if not os.path.exists('results'):\\\\n        os.makedirs('results')\\\\n\\\\n    # Create bar chart\\\\n    fig = go.Figure(data=[\\\\n        go.Bar(name='Pass', x=data[data['status'] == 'Pass']['status'], y=data[data['status'] == 'Pass']['count']),\\\\n        go.Bar(name='Fail', x=data[data['status'] == 'Fail']['status'], y=data[data['status'] == 'Fail']['count'])\\\\n    ])\\\\n\\\\n    # Change the bar mode\\\\n    fig.update_layout(barmode='group')\\\\n\\\\n    # Save the figure as png image\\\\n    fig.write_image('results/' + save_filename + '.png')\\\\n\\\\n    # Save the figure as json\\\\n    with open('results/' + save_filename + '.json', 'w') as json_file:\\\\n        json_file.write(fig.to_json())\\\\n\\\\n# Sample data\\\\nsample_data = 'status,count\\\\\\\\r\\\\\\\\nFail,14\\\\\\\\r\\\\\\\\nPass,19\\\\\\\\r\\\\\\\\n'\\\\n\\\\n# Convert string data to pandas dataframe\\\\nsample_data = pd.read_csv(pd.compat.StringIO(sample_data))\\\\n\\\\n# Call the function\\\\nplot_graph(sample_data, 'test_execution_status')\",\n",
    "    \"import pandas as pd\\\\nimport plotly.graph_objects as go\\\\nimport plotly.io as pio\\\\nimport os\\\\n\\\\n\\\\n# Function to plot graph\\\\n\\\\ndef plot_graph(data, save_filename):\\\\n\\\\n    # Create results directory if not exists\\\\n    if not os.path.exists('results'):\\\\n        os.makedirs('results')\\\\n\\\\n    # Prepare data\\\\n    data['date'] = pd.to_datetime(data['date'])\\\\n    fail_data = data[data['status'].str.contains('Fail')]\\\\n    pass_data = data[data['status'].str.contains('Pass')]\\\\n\\\\n    # Create traces\\\\n    trace_fail = go.Scatter(x=fail_data['date'], y=fail_data['count'], mode='lines+markers', name='Fail')\\\\n    trace_pass = go.Scatter(x=pass_data['date'], y=pass_data['count'], mode='lines+markers', name='Pass')\\\\n\\\\n    # Define layout\\\\n    layout = go.Layout(title='Test Execution Over Time', xaxis=dict(title='Time'), yaxis=dict(title='Number of Test Executions'))\\\\n\\\\n    # Define figure and add traces\\\\n    fig = go.Figure(data=[trace_fail, trace_pass], layout=layout)\\\\n\\\\n    # Save figure as image\\\\n    pio.write_image(fig, f'results/{save_filename}.png')\\\\n\\\\n    # Save figure as json\\\\n    with open(f'results/{save_filename}.json', 'w') as f:\\\\n        f.write(fig.to_json())\\\\n\\\\n    print(f'Graph saved as results/{save_filename}.png and results/{save_filename}.json')\\\\n\\\\n# Test the function\\\\n# Convert string data to dataframe\\\\nsample_data = 'date,status,count\\\\\\\\r\\\\\\\\n2022-09-21,Fail,2\\\\\\\\r\\\\\\\\n2022-09-21,Pass,3\\\\\\\\r\\\\\\\\n2022-09-22,Fail.1,3\\\\\\\\r\\\\\\\\n2022-09-22.1,Pass.1,2\\\\\\\\r\\\\\\\\n2022-09-23,Fail.2,4\\\\\\\\r\\\\\\\\n2022-09-23,Pass.2,2\\\\\\\\r\\\\\\\\n2022-09-26,Fail.3,2\\\\\\\\r\\\\\\\\n2022-09-26.1,Pass.3,4\\\\\\\\r\\\\\\\\n2022-10-03,Fail.4,2\\\\\\\\r\\\\\\\\n2022-10-03,Pass.4,2\\\\\\\\r\\\\\\\\n2023-01-19,Pass.5,3\\\\\\\\r\\\\\\\\n2023-01-23,Fail.5,1\\\\\\\\r\\\\\\\\n2023-01-23,Pass.6,2\\\\\\\\r\\\\\\\\n2023-02-03,Pass.7,1\\\\\\\\r\\\\\\\\n'\\\\n\\\\nsample_data = sample_data.replace('.1', '').replace('.2', '').replace('.3', '').replace('.4', '').replace('.5', '').replace('.6', '').replace('.7', '')\\\\n\\\\nsample_data = pd.read_csv(pd.compat.StringIO(sample_data))\\\\n\\\\n# Call the function\\\\nplot_graph(sample_data, 'test_execution_over_time')\",\n",
    "    \"import pandas as pd\\\\nimport plotly.graph_objects as go\\\\nimport plotly.io as pio\\\\nimport os\\\\n\\\\ndef plot_graph(data, save_filename):\\\\n    # Create results directory if not exists\\\\n    if not os.path.exists('results'):\\\\n        os.makedirs('results')\\\\n\\\\n    # Create bar chart\\\\n    fig = go.Figure(data=[\\\\n        go.Bar(name='Passed', x=data[data['status']=='Pass']['date'], y=data[data['status']=='Pass']['count']),\\\\n        go.Bar(name='Failed', x=data[data['status']=='Fail']['date'], y=data[data['status']=='Fail']['count'])\\\\n    ])\\\\n\\\\n    # Change the bar mode\\\\n    fig.update_layout(barmode='group')\\\\n\\\\n    # Save the figure as png image\\\\n    fig.write_image('results/' + save_filename + '.png')\\\\n\\\\n    # Save the figure as json\\\\n    with open('results/' + save_filename + '.json', 'w') as json_file:\\\\n        json_file.write(fig.to_json())\\\\n\\\\n    return 'Graph has been saved successfully.'\\\\n\\\\n# Test the function\\\\nsample_data = pd.read_csv('sample_data.csv')\\\\nplot_graph(sample_data, 'test_execution_duration')\"\n",
    "]\n",
    "for i in graph_args:\n",
    "    formatted_code = textwrap.dedent(i)\n",
    "    with open(f\"grapcode.txt\", 'w') as fp:\n",
    "        fp.write(formatted_code)"
   ]
  },
  {
   "cell_type": "code",
   "execution_count": 1,
   "metadata": {},
   "outputs": [
    {
     "name": "stdout",
     "output_type": "stream",
     "text": [
      "5b29aa85-3e08-41ee-9e6f-20f9c651678e\n"
     ]
    }
   ],
   "source": [
    "import uuid\n",
    "\n",
    "graph_uuid = str(uuid.uuid4())\n",
    "print(graph_uuid)"
   ]
  },
  {
   "cell_type": "code",
   "execution_count": null,
   "metadata": {},
   "outputs": [],
   "source": [
    "import pandas as pd\n",
    "import plotly.graph_objects as go\n",
    "import plotly.io as pio\n",
    "import os\n",
    "import json\n",
    "\n",
    "# Function to plot graph\n",
    "\n",
    "\n",
    "def plot_graph(data, save_filename):\n",
    "    # Create results directory if not exists\n",
    "    if not os.path.exists('results'):\n",
    "        os.makedirs('results')\n",
    "\n",
    "    # Create bar chart\n",
    "    fig = go.Figure(data=[go.Bar(x=data['status'], y=data['count'])])\n",
    "\n",
    "    # Set title\n",
    "    fig.update_layout(title_text='Test Execution Status')\n",
    "\n",
    "    # Save the figure as png image\n",
    "    pio.write_image(fig, f'results/{save_filename}.png')\n",
    "\n",
    "    # Save the figure as json\n",
    "    fig_json = fig.to_json()\n",
    "    with open(f'results/{save_filename}.json', 'w') as json_file:\n",
    "        json.dump(json.loads(fig_json), json_file)\n",
    "\n",
    "\n",
    "# Load data from csv\n",
    "try:\n",
    "    sample_data = pd.read_csv('sample_data.csv')\n",
    "except FileNotFoundError:\n",
    "    print(\n",
    "        'File not found. Please ensure the file sample_data.csv is in the correct directory.'\n",
    "    )\n",
    "\n",
    "# Call the function\n",
    "try:\n",
    "    plot_graph(sample_data, 'test_execution_status')\n",
    "except NameError:\n",
    "    print('Data not loaded due to missing file.')"
   ]
  },
  {
   "cell_type": "code",
   "execution_count": 7,
   "metadata": {},
   "outputs": [
    {
     "name": "stdout",
     "output_type": "stream",
     "text": [
      "  execution_status  number_of_executions\n",
      "0        COMPLETED                    33\n",
      "         execution_date  total_executions  passed_executions  \\\n",
      "0   2022-09-21 06:31:51                 1                1.0   \n",
      "1   2022-09-21 06:38:19                 1                1.0   \n",
      "2   2022-09-21 06:42:14                 1                0.0   \n",
      "3   2022-09-21 07:31:23                 1                1.0   \n",
      "4   2022-09-21 07:35:49                 1                0.0   \n",
      "5   2022-09-22 14:19:10                 1                0.0   \n",
      "6   2022-09-22 14:24:30                 1                0.0   \n",
      "7   2022-09-22 14:28:23                 1                1.0   \n",
      "8   2022-09-22 14:32:19                 1                1.0   \n",
      "9   2022-09-22 14:36:36                 1                0.0   \n",
      "10  2022-09-23 12:19:03                 1                1.0   \n",
      "11  2022-09-23 12:23:03                 1                0.0   \n",
      "12  2022-09-23 18:11:25                 1                0.0   \n",
      "13  2022-09-23 18:33:39                 1                0.0   \n",
      "14  2022-09-23 18:36:58                 1                1.0   \n",
      "15  2022-09-23 18:40:02                 1                0.0   \n",
      "16  2022-09-26 06:45:57                 1                1.0   \n",
      "17  2022-09-26 06:48:36                 1                0.0   \n",
      "18  2022-09-26 07:14:20                 1                1.0   \n",
      "19  2022-09-26 07:20:24                 1                0.0   \n",
      "20  2022-09-26 14:29:22                 1                1.0   \n",
      "21  2022-09-26 14:34:33                 1                1.0   \n",
      "22  2022-10-03 14:33:31                 1                1.0   \n",
      "23  2022-10-03 16:23:01                 1                0.0   \n",
      "24  2022-10-03 16:50:13                 1                1.0   \n",
      "25  2022-10-03 16:52:20                 1                0.0   \n",
      "26  2023-01-19 11:32:39                 1                1.0   \n",
      "27  2023-01-19 11:38:50                 1                1.0   \n",
      "28  2023-01-19 11:39:25                 1                1.0   \n",
      "29  2023-01-23 05:44:05                 1                1.0   \n",
      "30  2023-01-23 05:53:54                 1                1.0   \n",
      "31  2023-01-23 08:54:52                 1                0.0   \n",
      "32  2023-02-03 04:09:34                 1                1.0   \n",
      "\n",
      "    failed_executions  \n",
      "0                 0.0  \n",
      "1                 0.0  \n",
      "2                 1.0  \n",
      "3                 0.0  \n",
      "4                 1.0  \n",
      "5                 1.0  \n",
      "6                 1.0  \n",
      "7                 0.0  \n",
      "8                 0.0  \n",
      "9                 1.0  \n",
      "10                0.0  \n",
      "11                1.0  \n",
      "12                1.0  \n",
      "13                1.0  \n",
      "14                0.0  \n",
      "15                1.0  \n",
      "16                0.0  \n",
      "17                1.0  \n",
      "18                0.0  \n",
      "19                1.0  \n",
      "20                0.0  \n",
      "21                0.0  \n",
      "22                0.0  \n",
      "23                1.0  \n",
      "24                0.0  \n",
      "25                1.0  \n",
      "26                0.0  \n",
      "27                0.0  \n",
      "28                0.0  \n",
      "29                0.0  \n",
      "30                0.0  \n",
      "31                1.0  \n",
      "32                0.0  \n",
      "        project_name  total_executions  passed_executions  failed_executions\n",
      "0  Project Moon Base                 0               17.0               14.0\n",
      "1        Waldo tests                 0                2.0                0.0\n"
     ]
    }
   ],
   "source": [
    "from io import StringIO\n",
    "import pandas as pd\n",
    "\n",
    "data_list = [\n",
    "    'execution_status,number_of_executions\\r\\nCOMPLETED,33\\r\\n',\n",
    "    'execution_date,total_executions,passed_executions,failed_executions\\r\\n2022-09-21 06:31:51,1,1.0,0.0\\r\\n2022-09-21 06:38:19,1,1.0,0.0\\r\\n2022-09-21 06:42:14,1,0.0,1.0\\r\\n2022-09-21 07:31:23,1,1.0,0.0\\r\\n2022-09-21 07:35:49,1,0.0,1.0\\r\\n2022-09-22 14:19:10,1,0.0,1.0\\r\\n2022-09-22 14:24:30,1,0.0,1.0\\r\\n2022-09-22 14:28:23,1,1.0,0.0\\r\\n2022-09-22 14:32:19,1,1.0,0.0\\r\\n2022-09-22 14:36:36,1,0.0,1.0\\r\\n2022-09-23 12:19:03,1,1.0,0.0\\r\\n2022-09-23 12:23:03,1,0.0,1.0\\r\\n2022-09-23 18:11:25,1,0.0,1.0\\r\\n2022-09-23 18:33:39,1,0.0,1.0\\r\\n2022-09-23 18:36:58,1,1.0,0.0\\r\\n2022-09-23 18:40:02,1,0.0,1.0\\r\\n2022-09-26 06:45:57,1,1.0,0.0\\r\\n2022-09-26 06:48:36,1,0.0,1.0\\r\\n2022-09-26 07:14:20,1,1.0,0.0\\r\\n2022-09-26 07:20:24,1,0.0,1.0\\r\\n2022-09-26 14:29:22,1,1.0,0.0\\r\\n2022-09-26 14:34:33,1,1.0,0.0\\r\\n2022-10-03 14:33:31,1,1.0,0.0\\r\\n2022-10-03 16:23:01,1,0.0,1.0\\r\\n2022-10-03 16:50:13,1,1.0,0.0\\r\\n2022-10-03 16:52:20,1,0.0,1.0\\r\\n2023-01-19 11:32:39,1,1.0,0.0\\r\\n2023-01-19 11:38:50,1,1.0,0.0\\r\\n2023-01-19 11:39:25,1,1.0,0.0\\r\\n2023-01-23 05:44:05,1,1.0,0.0\\r\\n2023-01-23 05:53:54,1,1.0,0.0\\r\\n2023-01-23 08:54:52,1,0.0,1.0\\r\\n2023-02-03 04:09:34,1,1.0,0.0\\r\\n',\n",
    "    'project_name,total_executions,passed_executions,failed_executions\\r\\nProject Moon Base,0,17.0,14.0\\r\\nWaldo tests,0,2.0,0.0\\r\\n'\n",
    "]\n",
    "\n",
    "data_frames = [pd.read_csv(StringIO(data)) for data in data_list]\n",
    "for data in data_frames:\n",
    "    print(data)\n",
    "\n",
    "# Show the output\n",
    "# for i, df in enumerate(data_frames):\n",
    "# print(data_frames)\n",
    "# selected_rows_data_frames = [df.head(2) for df in data_frames]\n",
    "# # print(selected_rows_data_frames)\n",
    "# for self in selected_rows_data_frames:\n",
    "#     print(self)\n"
   ]
  },
  {
   "cell_type": "code",
   "execution_count": 2,
   "metadata": {},
   "outputs": [
    {
     "name": "stdout",
     "output_type": "stream",
     "text": [
      "Index 1: execution_status,number_of_executions\n",
      "COMPLETED,33\n",
      "\n",
      "\n",
      "\n",
      "Index 1: execution_date,total_executions,passed_executions,failed_executions\n",
      "2022-09-21 06:31:51,1,1.0,0.0\n",
      "2022-09-21 06:38:19,1,1.0,0.0\n",
      "2022-09-21 06:42:14,1,0.0,1.0\n",
      "2022-09-21 07:31:23,1,1.0,0.0\n",
      "2022-09-21 07:35:49,1,0.0,1.0\n",
      "2022-09-22 14:19:10,1,0.0,1.0\n",
      "2022-09-22 14:24:30,1,0.0,1.0\n",
      "2022-09-22 14:28:23,1,1.0,0.0\n",
      "2022-09-22 14:32:19,1,1.0,0.0\n",
      "2022-09-22 14:36:36,1,0.0,1.0\n",
      "2022-09-23 12:19:03,1,1.0,0.0\n",
      "2022-09-23 12:23:03,1,0.0,1.0\n",
      "2022-09-23 18:11:25,1,0.0,1.0\n",
      "2022-09-23 18:33:39,1,0.0,1.0\n",
      "2022-09-23 18:36:58,1,1.0,0.0\n",
      "2022-09-23 18:40:02,1,0.0,1.0\n",
      "2022-09-26 06:45:57,1,1.0,0.0\n",
      "2022-09-26 06:48:36,1,0.0,1.0\n",
      "2022-09-26 07:14:20,1,1.0,0.0\n",
      "2022-09-26 07:20:24,1,0.0,1.0\n",
      "2022-09-26 14:29:22,1,1.0,0.0\n",
      "2022-09-26 14:34:33,1,1.0,0.0\n",
      "2022-10-03 14:33:31,1,1.0,0.0\n",
      "2022-10-03 16:23:01,1,0.0,1.0\n",
      "2022-10-03 16:50:13,1,1.0,0.0\n",
      "2022-10-03 16:52:20,1,0.0,1.0\n",
      "2023-01-19 11:32:39,1,1.0,0.0\n",
      "2023-01-19 11:38:50,1,1.0,0.0\n",
      "2023-01-19 11:39:25,1,1.0,0.0\n",
      "2023-01-23 05:44:05,1,1.0,0.0\n",
      "2023-01-23 05:53:54,1,1.0,0.0\n",
      "2023-01-23 08:54:52,1,0.0,1.0\n",
      "2023-02-03 04:09:34,1,1.0,0.0\n",
      "\n",
      "\n",
      "\n",
      "Index 1: project_name,total_executions,passed_executions,failed_executions\n",
      "Project Moon Base,0,17.0,14.0\n",
      "Waldo tests,0,2.0,0.0\n",
      "\n",
      "\n",
      "\n"
     ]
    }
   ],
   "source": [
    "data_list = [\n",
    "    'execution_status,number_of_executions\\r\\nCOMPLETED,33\\r\\n',\n",
    "    'execution_date,total_executions,passed_executions,failed_executions\\r\\n2022-09-21 06:31:51,1,1.0,0.0\\r\\n2022-09-21 06:38:19,1,1.0,0.0\\r\\n2022-09-21 06:42:14,1,0.0,1.0\\r\\n2022-09-21 07:31:23,1,1.0,0.0\\r\\n2022-09-21 07:35:49,1,0.0,1.0\\r\\n2022-09-22 14:19:10,1,0.0,1.0\\r\\n2022-09-22 14:24:30,1,0.0,1.0\\r\\n2022-09-22 14:28:23,1,1.0,0.0\\r\\n2022-09-22 14:32:19,1,1.0,0.0\\r\\n2022-09-22 14:36:36,1,0.0,1.0\\r\\n2022-09-23 12:19:03,1,1.0,0.0\\r\\n2022-09-23 12:23:03,1,0.0,1.0\\r\\n2022-09-23 18:11:25,1,0.0,1.0\\r\\n2022-09-23 18:33:39,1,0.0,1.0\\r\\n2022-09-23 18:36:58,1,1.0,0.0\\r\\n2022-09-23 18:40:02,1,0.0,1.0\\r\\n2022-09-26 06:45:57,1,1.0,0.0\\r\\n2022-09-26 06:48:36,1,0.0,1.0\\r\\n2022-09-26 07:14:20,1,1.0,0.0\\r\\n2022-09-26 07:20:24,1,0.0,1.0\\r\\n2022-09-26 14:29:22,1,1.0,0.0\\r\\n2022-09-26 14:34:33,1,1.0,0.0\\r\\n2022-10-03 14:33:31,1,1.0,0.0\\r\\n2022-10-03 16:23:01,1,0.0,1.0\\r\\n2022-10-03 16:50:13,1,1.0,0.0\\r\\n2022-10-03 16:52:20,1,0.0,1.0\\r\\n2023-01-19 11:32:39,1,1.0,0.0\\r\\n2023-01-19 11:38:50,1,1.0,0.0\\r\\n2023-01-19 11:39:25,1,1.0,0.0\\r\\n2023-01-23 05:44:05,1,1.0,0.0\\r\\n2023-01-23 05:53:54,1,1.0,0.0\\r\\n2023-01-23 08:54:52,1,0.0,1.0\\r\\n2023-02-03 04:09:34,1,1.0,0.0\\r\\n',\n",
    "    'project_name,total_executions,passed_executions,failed_executions\\r\\nProject Moon Base,0,17.0,14.0\\r\\nWaldo tests,0,2.0,0.0\\r\\n'\n",
    "]\n",
    "\n",
    "# Loop through the list\n",
    "for data in data_list:\n",
    "    # Split the string into lines\n",
    "    print(\"Index 1:\", data)\n",
    "    print(\"\\n\")\n"
   ]
  },
  {
   "cell_type": "code",
   "execution_count": 1,
   "metadata": {},
   "outputs": [
    {
     "name": "stdout",
     "output_type": "stream",
     "text": [
      "I am here\n"
     ]
    },
    {
     "data": {
      "application/vnd.plotly.v1+json": {
       "config": {
        "plotlyServerURL": "https://plot.ly"
       },
       "data": [
        {
         "name": "Test Execution Status",
         "type": "bar",
         "x": [
          "Fail",
          "Pass"
         ],
         "y": [
          14,
          19
         ]
        }
       ],
       "layout": {
        "template": {
         "data": {
          "bar": [
           {
            "error_x": {
             "color": "#2a3f5f"
            },
            "error_y": {
             "color": "#2a3f5f"
            },
            "marker": {
             "line": {
              "color": "#E5ECF6",
              "width": 0.5
             },
             "pattern": {
              "fillmode": "overlay",
              "size": 10,
              "solidity": 0.2
             }
            },
            "type": "bar"
           }
          ],
          "barpolar": [
           {
            "marker": {
             "line": {
              "color": "#E5ECF6",
              "width": 0.5
             },
             "pattern": {
              "fillmode": "overlay",
              "size": 10,
              "solidity": 0.2
             }
            },
            "type": "barpolar"
           }
          ],
          "carpet": [
           {
            "aaxis": {
             "endlinecolor": "#2a3f5f",
             "gridcolor": "white",
             "linecolor": "white",
             "minorgridcolor": "white",
             "startlinecolor": "#2a3f5f"
            },
            "baxis": {
             "endlinecolor": "#2a3f5f",
             "gridcolor": "white",
             "linecolor": "white",
             "minorgridcolor": "white",
             "startlinecolor": "#2a3f5f"
            },
            "type": "carpet"
           }
          ],
          "choropleth": [
           {
            "colorbar": {
             "outlinewidth": 0,
             "ticks": ""
            },
            "type": "choropleth"
           }
          ],
          "contour": [
           {
            "colorbar": {
             "outlinewidth": 0,
             "ticks": ""
            },
            "colorscale": [
             [
              0,
              "#0d0887"
             ],
             [
              0.1111111111111111,
              "#46039f"
             ],
             [
              0.2222222222222222,
              "#7201a8"
             ],
             [
              0.3333333333333333,
              "#9c179e"
             ],
             [
              0.4444444444444444,
              "#bd3786"
             ],
             [
              0.5555555555555556,
              "#d8576b"
             ],
             [
              0.6666666666666666,
              "#ed7953"
             ],
             [
              0.7777777777777778,
              "#fb9f3a"
             ],
             [
              0.8888888888888888,
              "#fdca26"
             ],
             [
              1,
              "#f0f921"
             ]
            ],
            "type": "contour"
           }
          ],
          "contourcarpet": [
           {
            "colorbar": {
             "outlinewidth": 0,
             "ticks": ""
            },
            "type": "contourcarpet"
           }
          ],
          "heatmap": [
           {
            "colorbar": {
             "outlinewidth": 0,
             "ticks": ""
            },
            "colorscale": [
             [
              0,
              "#0d0887"
             ],
             [
              0.1111111111111111,
              "#46039f"
             ],
             [
              0.2222222222222222,
              "#7201a8"
             ],
             [
              0.3333333333333333,
              "#9c179e"
             ],
             [
              0.4444444444444444,
              "#bd3786"
             ],
             [
              0.5555555555555556,
              "#d8576b"
             ],
             [
              0.6666666666666666,
              "#ed7953"
             ],
             [
              0.7777777777777778,
              "#fb9f3a"
             ],
             [
              0.8888888888888888,
              "#fdca26"
             ],
             [
              1,
              "#f0f921"
             ]
            ],
            "type": "heatmap"
           }
          ],
          "heatmapgl": [
           {
            "colorbar": {
             "outlinewidth": 0,
             "ticks": ""
            },
            "colorscale": [
             [
              0,
              "#0d0887"
             ],
             [
              0.1111111111111111,
              "#46039f"
             ],
             [
              0.2222222222222222,
              "#7201a8"
             ],
             [
              0.3333333333333333,
              "#9c179e"
             ],
             [
              0.4444444444444444,
              "#bd3786"
             ],
             [
              0.5555555555555556,
              "#d8576b"
             ],
             [
              0.6666666666666666,
              "#ed7953"
             ],
             [
              0.7777777777777778,
              "#fb9f3a"
             ],
             [
              0.8888888888888888,
              "#fdca26"
             ],
             [
              1,
              "#f0f921"
             ]
            ],
            "type": "heatmapgl"
           }
          ],
          "histogram": [
           {
            "marker": {
             "pattern": {
              "fillmode": "overlay",
              "size": 10,
              "solidity": 0.2
             }
            },
            "type": "histogram"
           }
          ],
          "histogram2d": [
           {
            "colorbar": {
             "outlinewidth": 0,
             "ticks": ""
            },
            "colorscale": [
             [
              0,
              "#0d0887"
             ],
             [
              0.1111111111111111,
              "#46039f"
             ],
             [
              0.2222222222222222,
              "#7201a8"
             ],
             [
              0.3333333333333333,
              "#9c179e"
             ],
             [
              0.4444444444444444,
              "#bd3786"
             ],
             [
              0.5555555555555556,
              "#d8576b"
             ],
             [
              0.6666666666666666,
              "#ed7953"
             ],
             [
              0.7777777777777778,
              "#fb9f3a"
             ],
             [
              0.8888888888888888,
              "#fdca26"
             ],
             [
              1,
              "#f0f921"
             ]
            ],
            "type": "histogram2d"
           }
          ],
          "histogram2dcontour": [
           {
            "colorbar": {
             "outlinewidth": 0,
             "ticks": ""
            },
            "colorscale": [
             [
              0,
              "#0d0887"
             ],
             [
              0.1111111111111111,
              "#46039f"
             ],
             [
              0.2222222222222222,
              "#7201a8"
             ],
             [
              0.3333333333333333,
              "#9c179e"
             ],
             [
              0.4444444444444444,
              "#bd3786"
             ],
             [
              0.5555555555555556,
              "#d8576b"
             ],
             [
              0.6666666666666666,
              "#ed7953"
             ],
             [
              0.7777777777777778,
              "#fb9f3a"
             ],
             [
              0.8888888888888888,
              "#fdca26"
             ],
             [
              1,
              "#f0f921"
             ]
            ],
            "type": "histogram2dcontour"
           }
          ],
          "mesh3d": [
           {
            "colorbar": {
             "outlinewidth": 0,
             "ticks": ""
            },
            "type": "mesh3d"
           }
          ],
          "parcoords": [
           {
            "line": {
             "colorbar": {
              "outlinewidth": 0,
              "ticks": ""
             }
            },
            "type": "parcoords"
           }
          ],
          "pie": [
           {
            "automargin": true,
            "type": "pie"
           }
          ],
          "scatter": [
           {
            "fillpattern": {
             "fillmode": "overlay",
             "size": 10,
             "solidity": 0.2
            },
            "type": "scatter"
           }
          ],
          "scatter3d": [
           {
            "line": {
             "colorbar": {
              "outlinewidth": 0,
              "ticks": ""
             }
            },
            "marker": {
             "colorbar": {
              "outlinewidth": 0,
              "ticks": ""
             }
            },
            "type": "scatter3d"
           }
          ],
          "scattercarpet": [
           {
            "marker": {
             "colorbar": {
              "outlinewidth": 0,
              "ticks": ""
             }
            },
            "type": "scattercarpet"
           }
          ],
          "scattergeo": [
           {
            "marker": {
             "colorbar": {
              "outlinewidth": 0,
              "ticks": ""
             }
            },
            "type": "scattergeo"
           }
          ],
          "scattergl": [
           {
            "marker": {
             "colorbar": {
              "outlinewidth": 0,
              "ticks": ""
             }
            },
            "type": "scattergl"
           }
          ],
          "scattermapbox": [
           {
            "marker": {
             "colorbar": {
              "outlinewidth": 0,
              "ticks": ""
             }
            },
            "type": "scattermapbox"
           }
          ],
          "scatterpolar": [
           {
            "marker": {
             "colorbar": {
              "outlinewidth": 0,
              "ticks": ""
             }
            },
            "type": "scatterpolar"
           }
          ],
          "scatterpolargl": [
           {
            "marker": {
             "colorbar": {
              "outlinewidth": 0,
              "ticks": ""
             }
            },
            "type": "scatterpolargl"
           }
          ],
          "scatterternary": [
           {
            "marker": {
             "colorbar": {
              "outlinewidth": 0,
              "ticks": ""
             }
            },
            "type": "scatterternary"
           }
          ],
          "surface": [
           {
            "colorbar": {
             "outlinewidth": 0,
             "ticks": ""
            },
            "colorscale": [
             [
              0,
              "#0d0887"
             ],
             [
              0.1111111111111111,
              "#46039f"
             ],
             [
              0.2222222222222222,
              "#7201a8"
             ],
             [
              0.3333333333333333,
              "#9c179e"
             ],
             [
              0.4444444444444444,
              "#bd3786"
             ],
             [
              0.5555555555555556,
              "#d8576b"
             ],
             [
              0.6666666666666666,
              "#ed7953"
             ],
             [
              0.7777777777777778,
              "#fb9f3a"
             ],
             [
              0.8888888888888888,
              "#fdca26"
             ],
             [
              1,
              "#f0f921"
             ]
            ],
            "type": "surface"
           }
          ],
          "table": [
           {
            "cells": {
             "fill": {
              "color": "#EBF0F8"
             },
             "line": {
              "color": "white"
             }
            },
            "header": {
             "fill": {
              "color": "#C8D4E3"
             },
             "line": {
              "color": "white"
             }
            },
            "type": "table"
           }
          ]
         },
         "layout": {
          "annotationdefaults": {
           "arrowcolor": "#2a3f5f",
           "arrowhead": 0,
           "arrowwidth": 1
          },
          "autotypenumbers": "strict",
          "coloraxis": {
           "colorbar": {
            "outlinewidth": 0,
            "ticks": ""
           }
          },
          "colorscale": {
           "diverging": [
            [
             0,
             "#8e0152"
            ],
            [
             0.1,
             "#c51b7d"
            ],
            [
             0.2,
             "#de77ae"
            ],
            [
             0.3,
             "#f1b6da"
            ],
            [
             0.4,
             "#fde0ef"
            ],
            [
             0.5,
             "#f7f7f7"
            ],
            [
             0.6,
             "#e6f5d0"
            ],
            [
             0.7,
             "#b8e186"
            ],
            [
             0.8,
             "#7fbc41"
            ],
            [
             0.9,
             "#4d9221"
            ],
            [
             1,
             "#276419"
            ]
           ],
           "sequential": [
            [
             0,
             "#0d0887"
            ],
            [
             0.1111111111111111,
             "#46039f"
            ],
            [
             0.2222222222222222,
             "#7201a8"
            ],
            [
             0.3333333333333333,
             "#9c179e"
            ],
            [
             0.4444444444444444,
             "#bd3786"
            ],
            [
             0.5555555555555556,
             "#d8576b"
            ],
            [
             0.6666666666666666,
             "#ed7953"
            ],
            [
             0.7777777777777778,
             "#fb9f3a"
            ],
            [
             0.8888888888888888,
             "#fdca26"
            ],
            [
             1,
             "#f0f921"
            ]
           ],
           "sequentialminus": [
            [
             0,
             "#0d0887"
            ],
            [
             0.1111111111111111,
             "#46039f"
            ],
            [
             0.2222222222222222,
             "#7201a8"
            ],
            [
             0.3333333333333333,
             "#9c179e"
            ],
            [
             0.4444444444444444,
             "#bd3786"
            ],
            [
             0.5555555555555556,
             "#d8576b"
            ],
            [
             0.6666666666666666,
             "#ed7953"
            ],
            [
             0.7777777777777778,
             "#fb9f3a"
            ],
            [
             0.8888888888888888,
             "#fdca26"
            ],
            [
             1,
             "#f0f921"
            ]
           ]
          },
          "colorway": [
           "#636efa",
           "#EF553B",
           "#00cc96",
           "#ab63fa",
           "#FFA15A",
           "#19d3f3",
           "#FF6692",
           "#B6E880",
           "#FF97FF",
           "#FECB52"
          ],
          "font": {
           "color": "#2a3f5f"
          },
          "geo": {
           "bgcolor": "white",
           "lakecolor": "white",
           "landcolor": "#E5ECF6",
           "showlakes": true,
           "showland": true,
           "subunitcolor": "white"
          },
          "hoverlabel": {
           "align": "left"
          },
          "hovermode": "closest",
          "mapbox": {
           "style": "light"
          },
          "paper_bgcolor": "white",
          "plot_bgcolor": "#E5ECF6",
          "polar": {
           "angularaxis": {
            "gridcolor": "white",
            "linecolor": "white",
            "ticks": ""
           },
           "bgcolor": "#E5ECF6",
           "radialaxis": {
            "gridcolor": "white",
            "linecolor": "white",
            "ticks": ""
           }
          },
          "scene": {
           "xaxis": {
            "backgroundcolor": "#E5ECF6",
            "gridcolor": "white",
            "gridwidth": 2,
            "linecolor": "white",
            "showbackground": true,
            "ticks": "",
            "zerolinecolor": "white"
           },
           "yaxis": {
            "backgroundcolor": "#E5ECF6",
            "gridcolor": "white",
            "gridwidth": 2,
            "linecolor": "white",
            "showbackground": true,
            "ticks": "",
            "zerolinecolor": "white"
           },
           "zaxis": {
            "backgroundcolor": "#E5ECF6",
            "gridcolor": "white",
            "gridwidth": 2,
            "linecolor": "white",
            "showbackground": true,
            "ticks": "",
            "zerolinecolor": "white"
           }
          },
          "shapedefaults": {
           "line": {
            "color": "#2a3f5f"
           }
          },
          "ternary": {
           "aaxis": {
            "gridcolor": "white",
            "linecolor": "white",
            "ticks": ""
           },
           "baxis": {
            "gridcolor": "white",
            "linecolor": "white",
            "ticks": ""
           },
           "bgcolor": "#E5ECF6",
           "caxis": {
            "gridcolor": "white",
            "linecolor": "white",
            "ticks": ""
           }
          },
          "title": {
           "x": 0.05
          },
          "xaxis": {
           "automargin": true,
           "gridcolor": "white",
           "linecolor": "white",
           "ticks": "",
           "title": {
            "standoff": 15
           },
           "zerolinecolor": "white",
           "zerolinewidth": 2
          },
          "yaxis": {
           "automargin": true,
           "gridcolor": "white",
           "linecolor": "white",
           "ticks": "",
           "title": {
            "standoff": 15
           },
           "zerolinecolor": "white",
           "zerolinewidth": 2
          }
         }
        },
        "title": {
         "text": "Test Execution Status"
        },
        "xaxis": {
         "title": {
          "text": "Status"
         }
        },
        "yaxis": {
         "title": {
          "text": "Count"
         }
        }
       }
      }
     },
     "metadata": {},
     "output_type": "display_data"
    },
    {
     "name": "stdout",
     "output_type": "stream",
     "text": [
      "Created filename\n",
      "I am here in try\n"
     ]
    }
   ],
   "source": [
    "import pandas as pd\n",
    "import plotly.graph_objects as go\n",
    "import os\n",
    "import json\n",
    "\n",
    "# Function to plot graph\n",
    "def plot_graph(data, save_filename):\n",
    "    # Create bar chart\n",
    "    fig = go.Figure(data=[\n",
    "        go.Bar(name='Test Execution Status', x=data['status'], y=data['count'])\n",
    "    ])\n",
    "    print(\"I am here\")\n",
    "\n",
    "    # Update layout\n",
    "    fig.update_layout(title='Test Execution Status', xaxis_title='Status', yaxis_title='Count')\n",
    "    \n",
    "    fig.show()\n",
    "\n",
    "    # Create results directory if not exists\n",
    "    if not os.path.exists('results'):\n",
    "        print(\"Created filename\")\n",
    "        os.makedirs('results')\n",
    "\n",
    "    # Save the figure as png image\n",
    "    # fig.write_image(f'results/{save_filename}.png')\n",
    "    try:\n",
    "        print(\"I am here in try\")\n",
    "        fig.write_image(f'results/{save_filename}.jpg')\n",
    "        with open(f'results/{save_filename}.json', 'w') as json_file:\n",
    "            json.dump(fig.to_dict(), json_file)\n",
    "    except Exception as e:\n",
    "        print(\"I am in exception\")\n",
    "        print(f\"Error: {e}\")\n",
    "\n",
    "    # Save the figure as json\n",
    "    with open(f'results/{save_filename}.json', 'w') as json_file:\n",
    "        json.dump(fig.to_dict(), json_file)\n",
    "\n",
    "# Sample data\n",
    "data = pd.DataFrame({\n",
    "    'status': ['Fail', 'Pass'],\n",
    "    'count': [14, 19]\n",
    "})\n",
    "\n",
    "# Call the function\n",
    "plot_graph(data, 'test_execution_status')\n",
    "# df_from_str=data\n",
    "# plot_graph(data=df_from_str, save_filename=\"harsh\")\n"
   ]
  },
  {
   "cell_type": "code",
   "execution_count": 3,
   "metadata": {},
   "outputs": [
    {
     "name": "stdout",
     "output_type": "stream",
     "text": [
      "I am here\n",
      "I am here in try\n"
     ]
    }
   ],
   "source": [
    "plot_graph(data, 'test_execution_status')"
   ]
  },
  {
   "cell_type": "code",
   "execution_count": 1,
   "metadata": {},
   "outputs": [],
   "source": [
    "import plotly.graph_objects as go\n",
    "import pandas as pd\n",
    "import os\n",
    "\n",
    "# Create sample data\n",
    "data = {'status': ['Fail', 'Pass'], 'COUNT(*)': [7, 14]}\n",
    "df = pd.DataFrame(data)\n",
    "\n",
    "# Create a bar chart\n",
    "fig = go.Figure(data=[\n",
    "    go.Bar(name='Test Execution Status', x=df['status'], y=df['COUNT(*)'])\n",
    "])\n",
    "\n",
    "# Change the bar mode\n",
    "fig.update_layout(barmode='group')\n",
    "\n",
    "# Display the figure\n",
    "# fig.show()\n",
    "save_path = 'results/example_plot.png'\n",
    "\n",
    "# if not os.path.exists('D:\\\\Report-Bot\\\\Report-Bot\\\\results'):\n",
    "#     os.makedirs('D:\\\\Report-Bot\\\\Report-Bot\\\\results')\n",
    "\n",
    "# Save the figure as a PNG image\n",
    "# fig.write_image(save_path) \n",
    "fig.write_image(save_path, engine=\"orca\")\n"
   ]
  },
  {
   "cell_type": "code",
   "execution_count": 1,
   "metadata": {},
   "outputs": [],
   "source": [
    "import pandas as pd\n",
    "import plotly.graph_objects as go\n",
    "import plotly.io as pio\n",
    "import os\n",
    "\n",
    "\n",
    "def plot_graph(data, save_filename):\n",
    "    # Create a bar chart\n",
    "    fig = go.Figure(data=[\n",
    "        go.Bar(name='Test Execution Status', x=data['status'], y=data['COUNT(*)'])\n",
    "    ])\n",
    "\n",
    "    # Change the bar mode\n",
    "    fig.update_layout(barmode='group')\n",
    "\n",
    "    # Create results directory if not exists\n",
    "    if not os.path.exists('results'):\n",
    "        os.makedirs('results')\n",
    "\n",
    "    # Save the figure as png image\n",
    "    fig.write_image(f'results/{save_filename}.png')\n",
    "\n",
    "    # Save the figure as json\n",
    "    with open(f'results/{save_filename}.json', 'w') as json_file:\n",
    "        json_file.write(fig.to_json())\n",
    "\n",
    "# Sample data\n",
    "sample_data = pd.DataFrame({\n",
    "    'status': ['ERROR IN RUN', 'Fail'],\n",
    "    'COUNT(*)': [2, 7]\n",
    "})\n",
    "\n",
    "# Call the function\n",
    "plot_graph(sample_data, 'namesss')"
   ]
  },
  {
   "cell_type": "code",
   "execution_count": 1,
   "metadata": {},
   "outputs": [
    {
     "name": "stdout",
     "output_type": "stream",
     "text": [
      "Table schemas: \n",
      "This is an Web Testing Service here are few key terms to be followed: Project : A project serves as a top-level hierarchy for structuring test suites, modules, scripts, and data which will be specified for its specific teams.Test Suite: A test suite is suite/collection of Test Scripts.Test Suites are a essential way of organising, maintaining test scenarios.Module:Modules are a collection of Test Scripts where each module can have multiple test scripts.Test Step:It can be defined in this case as single unit of a test script.Test Script:It is a collection of the Test Steps,Which are set of actions, validations and verifications that can be performed on the web application to ensure its functionality, performance, and reliability.Test Repository : It is a collection of Test Module, each comprising a collection of individual Test Scripts.Test Lab:The Test Lab serves as a versatile and efficient platform for rapidly creating and executing test suites within a Project. It also facilitates the process of importing test scripts into these suites, thereby enabling the efficient execution of test scripts.Sprints:Here it imports test scripts from both the Test Repository and Test Lab into the Sprints section.\n",
      "TABLE NAME : project Field,Type\n",
      "\n",
      "uuid,varchar(36)\n",
      "\n",
      "created_by,varchar(255)\n",
      "\n",
      "created_date,datetime\n",
      "\n",
      "id,bigint(20)\n",
      "\n",
      "is_starred,bit(1)\n",
      "\n",
      "modified_by,varchar(255)\n",
      "\n",
      "modified_date,datetime\n",
      "\n",
      "organization,varchar(255)\n",
      "\n",
      "project_description,varchar(1500)\n",
      "\n",
      "project_name,varchar(255)\n",
      "\n",
      "project_status,bit(1)\n",
      "\n",
      "service_store_id,varchar(255)\n",
      "\n",
      "team_id,varchar(255)\n",
      "\n",
      "So,in the above project table:1)Whenever a project is created it will have its team_id linked for which user belongs to.if an user as an subscription plus then it will have service_store_id 1 if not 0.If an project exist then project_status will be 1 if deleted on UI it will be 0.\n",
      "TABLE NAME : test_suite Field,Type\n",
      "\n",
      "uuid,varchar(36)\n",
      "\n",
      "created_by,varchar(255)\n",
      "\n",
      "created_date,datetime\n",
      "\n",
      "id,bigint(20)\n",
      "\n",
      "modified_by,varchar(255)\n",
      "\n",
      "modified_date,datetime\n",
      "\n",
      "organization,varchar(255)\n",
      "\n",
      "tag_name,json\n",
      "\n",
      "test_suite_name,varchar(255)\n",
      "\n",
      "test_suite_status,bit(1)\n",
      "\n",
      "sprint_uuid,varchar(36)\n",
      "\n",
      "description,varchar(1500)\n",
      "\n",
      "project_uuid,varchar(36)\n",
      "\n",
      "A test suite is suite/collection of Test Scripts.Test Suites are a essential way of organising, maintaining test scenarios. They are different from modules as the suite can contain imported scripts from multiple modules. The main use of test suites, however is for batch execution, where each suite containing multiple scripts can be executed at once.So,in the above test_suite table:1)test_suite_status columns indiactes whether the status of the suites (active or inactive),where suites exist it is 1 if deleted on UI will be 0.\n",
      "TABLE NAME : test_script Field,Type\n",
      "\n",
      "uuid,varchar(36)\n",
      "\n",
      "created_by,varchar(255)\n",
      "\n",
      "created_date,datetime\n",
      "\n",
      "has_upload_data,bit(1)\n",
      "\n",
      "id,bigint(20)\n",
      "\n",
      "is_original_script,bit(1)\n",
      "\n",
      "is_otp,bit(1)\n",
      "\n",
      "is_parameterized,bit(1)\n",
      "\n",
      "is_starred,bit(1)\n",
      "\n",
      "modified_by,varchar(255)\n",
      "\n",
      "modified_date,datetime\n",
      "\n",
      "objective,mediumtext\n",
      "\n",
      "organization,varchar(255)\n",
      "\n",
      "reference_script_id,varchar(255)\n",
      "\n",
      "sequence_id,bigint(20)\n",
      "\n",
      "tag_name,json\n",
      "\n",
      "test_script_name,varchar(255)\n",
      "\n",
      "test_script_status,bit(1)\n",
      "\n",
      "module_repository_uuid,varchar(36)\n",
      "\n",
      "test_suite_uuid,varchar(36)\n",
      "\n",
      "reference_script_uuid,varchar(36)\n",
      "\n",
      "module_key_name,varchar(255)\n",
      "\n",
      "has_execute_test_case,bit(1)\n",
      "\n",
      "is_reusable,bit(1)\n",
      "\n",
      "integrationInfo_uuid,varchar(36)\n",
      "\n",
      "is_ai_generated,bit(1)\n",
      "\n",
      "nova_request_uuid,varchar(36)\n",
      "\n",
      "When an project is created ,Test Scripts can be created through test repository also called as modules or can be created with AI.A Test Script is a collection of the Test Steps.So,in the above test_script table: When test scripts are created it will have its unique id created in uuid column, if the test script contains any files or user has uploaded any kind of files the column has_upload_data reflects as 1 otherwise 0, if then scripts are created it can be cloned and cloned scripts will have is_original=0 and if else original scripts will have is_original=1.When the test script goes to execution and verify otp feature is enabled the column is_otp status would be set to 1 otherwise 0.when test_script is created imported from the module into the test_suite then only we can find the reference_script_id in the table.If the user created test_script and deleted then the column test_script_status will be 0 if not will be 1.Whenever the user imports the test_script into the test_Suite the test_scripts will be tagged with its specified test_suite_uuid.When an test_script is executed the test_script_status COLUMN will be set to 1 if not it will be 0.If the test_scripts are created from nova then the column is_ai_generated will be set to 1 otherwise if generated manuallyit will be 0. \n",
      "TABLE NAME : test_step Field,Type\n",
      "\n",
      "uuid,varchar(36)\n",
      "\n",
      "control_type,varchar(255)\n",
      "\n",
      "created_by,varchar(255)\n",
      "\n",
      "created_date,datetime\n",
      "\n",
      "data_column,varchar(255)\n",
      "\n",
      "data_value,text\n",
      "\n",
      "id,bigint(20)\n",
      "\n",
      "identifier,varchar(255)\n",
      "\n",
      "identifier_value,mediumtext\n",
      "\n",
      "jhi_index,varchar(255)\n",
      "\n",
      "is_data_column,bit(1)\n",
      "\n",
      "is_optional,bit(1)\n",
      "\n",
      "is_otp,bit(1)\n",
      "\n",
      "is_parameterized,bit(1)\n",
      "\n",
      "is_resuable,bit(1)\n",
      "\n",
      "is_screenshot,bit(1)\n",
      "\n",
      "is_upload,bit(1)\n",
      "\n",
      "modified_by,varchar(255)\n",
      "\n",
      "modified_date,datetime\n",
      "\n",
      "organization,varchar(255)\n",
      "\n",
      "property,varchar(255)\n",
      "\n",
      "step_description,varchar(255)\n",
      "\n",
      "step_number,int(11)\n",
      "\n",
      "step_reference_id,varchar(255)\n",
      "\n",
      "step_status,bit(1)\n",
      "\n",
      "user_action,varchar(255)\n",
      "\n",
      "test_script_uuid,varchar(36)\n",
      "\n",
      "step_reference_uuid,varchar(255)\n",
      "\n",
      "data_view_attribute,varchar(255)\n",
      "\n",
      "is_expand,bit(1)\n",
      "\n",
      "Test step is a single unit of a test script which consists of many properties the main property being the 'User Action' which specifies user_action column from the table the nature of the action which will be performed on the web page (eg Click, Set, Go to url etc). So,in the above test_step table: Once the test_scripts are created , user can start creating the test_steps and its consecutive numbers will be associated with the step_number column .Each test_steps will contain an unique uuid.If the test_step wants to be executed repeatedly for number of data given by the user then the is_parametrized column will be set to 1 otherwise 0 and if the is_parametrized column is set to 1 then the data_column will be reflected on UI. When an user uploads any kind of file in test_steps the coulmn is_upload will be set to 1 otherwise 0.If the test_step is created and is present will have status as 1 if it is being deleted then it shall have 0.If an step is present in UI then step_status will be 1 otherwise if deleted will be 0\n",
      "TABLE NAME : test_execution Field,Type\n",
      "\n",
      "uuid,varchar(36)\n",
      "\n",
      "browser_type,varchar(255)\n",
      "\n",
      "browser_version,varchar(255)\n",
      "\n",
      "end_time,varchar(255)\n",
      "\n",
      "execution_date,datetime\n",
      "\n",
      "execution_status,varchar(255)\n",
      "\n",
      "execution_time,varchar(255)\n",
      "\n",
      "fail_scenarios,varchar(255)\n",
      "\n",
      "fail_test_case,varchar(255)\n",
      "\n",
      "id,bigint(20)\n",
      "\n",
      "is_console_log_generated,bit(1)\n",
      "\n",
      "is_extra_value,bit(1)\n",
      "\n",
      "is_performance_enabled,bit(1)\n",
      "\n",
      "is_report_active,bit(1)\n",
      "\n",
      "is_video_generated,bit(1)\n",
      "\n",
      "job_id,varchar(255)\n",
      "\n",
      "live_preview_url,varchar(255)\n",
      "\n",
      "name,varchar(255)\n",
      "\n",
      "operation_system,varchar(255)\n",
      "\n",
      "pass_scenarios,varchar(255)\n",
      "\n",
      "pass_test_case,varchar(255)\n",
      "\n",
      "plugin_name,varchar(255)\n",
      "\n",
      "run_flag,bit(1)\n",
      "\n",
      "start_time,varchar(255)\n",
      "\n",
      "status,varchar(255)\n",
      "\n",
      "test_result,varchar(255)\n",
      "\n",
      "test_script_id,varchar(255)\n",
      "\n",
      "test_suite_id,varchar(255)\n",
      "\n",
      "test_suite_name,varchar(255)\n",
      "\n",
      "total_scenarios,varchar(255)\n",
      "\n",
      "video_url,varchar(255)\n",
      "\n",
      "project_uuid,varchar(36)\n",
      "\n",
      "created_by,varchar(255)\n",
      "\n",
      "error_message,varchar(255)\n",
      "\n",
      "is_dry_run,bit(1)\n",
      "\n",
      "is_suite_run,bit(1)\n",
      "\n",
      "is_module_run,bit(1)\n",
      "\n",
      "multi_runs,json\n",
      "\n",
      "operating_system,varchar(255)\n",
      "\n",
      "organization,varchar(255)\n",
      "\n",
      "resultResourceUrl,varchar(255)\n",
      "\n",
      "total_testCases,varchar(255)\n",
      "\n",
      "variable_environment_id,varchar(255)\n",
      "\n",
      "database_config_uuid,varchar(36)\n",
      "\n",
      "sprint_uuid,varchar(36)\n",
      "\n",
      "test_script_uuid,varchar(36)\n",
      "\n",
      "test_suite_uuid,varchar(36)\n",
      "\n",
      "email_recipients,json\n",
      "\n",
      "is_email,bit(1)\n",
      "\n",
      "user_email,varchar(255)\n",
      "\n",
      "is_test_lab_run,bit(1)\n",
      "\n",
      "end_date,varchar(255)\n",
      "\n",
      "is_scheduled,bit(1)\n",
      "\n",
      "on_error_continue,bit(1)\n",
      "\n",
      "healer_response,text\n",
      "\n",
      "is_healer,bit(1)\n",
      "\n",
      "is_healer_response,bit(1)\n",
      "\n",
      "extraValue,varchar(255)\n",
      "\n",
      "is_report_zip_generated,bit(1)\n",
      "\n",
      "is_encapsulate_run,bit(1)\n",
      "\n",
      "pdf_report_status,varchar(255)\n",
      "\n",
      "pdf_report_url,varchar(255)\n",
      "\n",
      "is_public_cloud_run,bit(1)\n",
      "\n",
      "public_cloud_run_type,varchar(255)\n",
      "\n",
      "snap_shot_name,varchar(255)\n",
      "\n",
      "operating_system_version,varchar(255)\n",
      "\n",
      "node_uuid,varchar(36)\n",
      "\n",
      "screen_dimension,varchar(255)\n",
      "\n",
      "framework_instance_uuid,varchar(36)\n",
      "\n",
      "is_performance_run,bit(1)\n",
      "\n",
      "performance_execution_uuid,varchar(36)\n",
      "\n",
      "is_xray,bit(1)\n",
      "\n",
      "visual_regression_enabled,bit(1)\n",
      "\n",
      "visual_regression_uuid,varchar(36)\n",
      "\n",
      "parameter_file_source,varchar(255)\n",
      "\n",
      "organization_id_enabled,bit(1)\n",
      "\n",
      "shortened_Url,varchar(255)\n",
      "\n",
      "schedule_type,varchar(255)\n",
      "\n",
      "So,in the above test_execution table: Once all the test_scripts and test_steps are created we can execute the tests(test_execution).Each test_scripts can have many test_executions.The column execution_date refers to on which date the test has being executed.The column execution_status has these many possible outcomes:{ EXECUTION_NOT_STARTED, EXECUTING, UPLOADING_RESULTS, COMPLETED, RUN_SCHEDULED, RUN_INITIATED, Q1, Q2, Q3, Q4, P1,P2, P3, CANCELLED,ABORTING,PAUSED,GENERATING_REPORT}. So to check if the EXECUTION is Pass or Fail you can check it with column named as `status`. The column execution_time indicates the time taken by the test_script to be executed which depend on the execution_status.There are two runs basically performance and normal run if user opts performance run then is_performance_enabled,is_performance_run columns will have 1 otherwise 0 .Scenarios are basically scripts,when an script is failed the column fail_scenarios will be 1 otherwise 0.Like if an script is passed then column pass_scenarios will be 1 if not 0.Total pass/fail can be calculated in the column total_scenarios by its count.The status of the particular test_execution will be shown as pass or fail in the column status. If the user selects an dry run before execution then is_dry_run will be 1 if not 0.In a module when the dry run is enabled then is_module_run will have 1 else 0.When an test is executed from Test lab then is_test_lab_run will be 1 if not 0.\n",
      "TABLE NAME : sprint Field,Type\n",
      "\n",
      "uuid,varchar(36)\n",
      "\n",
      "colour_tags,varchar(255)\n",
      "\n",
      "created_by,varchar(255)\n",
      "\n",
      "created_date,datetime\n",
      "\n",
      "id,bigint(20)\n",
      "\n",
      "modified_by,varchar(255)\n",
      "\n",
      "modified_date,datetime\n",
      "\n",
      "organization,varchar(255)\n",
      "\n",
      "sprint_active,bit(1)\n",
      "\n",
      "sprint_description,varchar(1500)\n",
      "\n",
      "sprint_end_date,datetime\n",
      "\n",
      "sprint_execution_status,varchar(255)\n",
      "\n",
      "sprint_name,varchar(255)\n",
      "\n",
      "sprint_start_date,datetime\n",
      "\n",
      "sprint_status,bit(1)\n",
      "\n",
      "project_uuid,varchar(36)\n",
      "\n",
      "actual_end_date,datetime\n",
      "\n",
      "actual_start_date,datetime\n",
      "\n",
      "There wiil be a 'Sprints' section of the project,can associate any test scripts with ongoing sprint which can import test scripts from both the Test Repository and Test Lab into the 'Sprints' section. After importing, they can then arrange these scripts into Test Suites, enabling to conveniently execute the scripts as needed. So,in the above sprint table: This table has an sprint linked with multiple test_suites and each one of the sprint has an unique uuids.The column sprint_active will be enabled only when sprint is started which takes 1 if not 0. If the sprint is completed or not or ongoing can be viewed from the column sprint_execution_status.\n",
      "Relations: \n",
      "TABLE_NAME,COLUMN_NAME,REFERENCED_TABLE_NAME,REFERENCED_COLUMN_NAME\n",
      "\n",
      "data_base_configuration,test_execution_uuid,test_execution,uuid\n",
      "\n",
      "data_base_configuration,project_uuid,project,uuid\n",
      "\n",
      "data_table,testScript_uuid,test_script,uuid\n",
      "\n",
      "data_table,global_variable_environment_uuid,global_variable_environment,uuid\n",
      "\n",
      "function_step,function_uuid,functions,uuid\n",
      "\n",
      "function_step,script_step_reference_uuid,test_step,uuid\n",
      "\n",
      "function_step,test_script_uuid,test_script,uuid\n",
      "\n",
      "functions,project_uuid,project,uuid\n",
      "\n",
      "global_variable_environment,project_uuid,project,uuid\n",
      "\n",
      "global_variable_environment,data_table_uuid,data_table,uuid\n",
      "\n",
      "global_variables,environment_uuid,global_variable_environment,uuid\n",
      "\n",
      "global_variables,project_uuid,project,uuid\n",
      "\n",
      "integration,management_config_uuid,management_tool_configuration,uuid\n",
      "\n",
      "jhi_persistent_audit_evt_data,event_id,jhi_persistent_audit_event,event_id\n",
      "\n",
      "management_tool_configuration,project_uuid,project,uuid\n",
      "\n",
      "module_repository,project_uuid,project,uuid\n",
      "\n",
      "performance_execution,database_config_uuid,data_base_configuration,uuid\n",
      "\n",
      "performance_execution,test_script_uuid,test_script,uuid\n",
      "\n",
      "performance_execution,sprint_uuid,sprint,uuid\n",
      "\n",
      "performance_execution,project_uuid,project,uuid\n",
      "\n",
      "project_member,project_uuid,project,uuid\n",
      "\n",
      "run_configuration,environment_uuid,global_variable_environment,uuid\n",
      "\n",
      "run_configuration,project_uuid,project,uuid\n",
      "\n",
      "run_configuration,database_config_uuid,data_base_configuration,uuid\n",
      "\n",
      "scheduler_job,project_uuid,project,uuid\n",
      "\n",
      "script_execution,runId,test_execution,uuid\n",
      "\n",
      "sprint,project_uuid,project,uuid\n",
      "\n",
      "test_execution,test_suite_uuid,test_suite,uuid\n",
      "\n",
      "test_execution,database_config_uuid,data_base_configuration,uuid\n",
      "\n",
      "test_execution,test_script_uuid,test_script,uuid\n",
      "\n",
      "test_execution,performance_execution_uuid,performance_execution,uuid\n",
      "\n",
      "test_execution,sprint_uuid,sprint,uuid\n",
      "\n",
      "test_execution,project_uuid,project,uuid\n",
      "\n",
      "test_execution,visual_regression_uuid,visual_regression,uuid\n",
      "\n",
      "test_script,module_repository_uuid,module_repository,uuid\n",
      "\n",
      "test_script,integrationInfo_uuid,integration,uuid\n",
      "\n",
      "test_script,nova_request_uuid,nova,uuid\n",
      "\n",
      "test_script,test_suite_uuid,test_suite,uuid\n",
      "\n",
      "test_script_version,test_script_uuid,test_script,uuid\n",
      "\n",
      "test_step,test_script_uuid,test_script,uuid\n",
      "\n",
      "test_suite,project_uuid,project,uuid\n",
      "\n",
      "test_suite,sprint_uuid,sprint,uuid\n",
      "\n",
      "\n"
     ]
    }
   ],
   "source": [
    "file_path = 'D:\\\\Report-Bot\\\\Report-Bot\\\\tables_schema.txt'\n",
    "with open(file_path, 'r') as file:\n",
    "    file_content = file.read()\n",
    "print(file_content)"
   ]
  },
  {
   "cell_type": "code",
   "execution_count": 1,
   "metadata": {},
   "outputs": [],
   "source": [
    "import pandas as pd\n",
    "import plotly.graph_objects as go\n",
    "import plotly.io as pio\n",
    "import os\n",
    "\n",
    "# Function to plot graph\n",
    "\n",
    "def plot_graph(data, save_filename):\n",
    "    # Create a bar chart\n",
    "    fig = go.Figure(data=[\n",
    "        go.Bar(name='Status', x=data['status'], y=data['count'])\n",
    "    ])\n",
    "\n",
    "    # Change the bar mode\n",
    "    fig.update_layout(barmode='group')\n",
    "\n",
    "    # Create results directory if not exists\n",
    "    if not os.path.exists('results'):\n",
    "        os.makedirs('results')\n",
    "\n",
    "    # Save the figure as png image\n",
    "    pio.write_image(fig, 'results/' + save_filename + '.png', engine='orca')\n",
    "\n",
    "    # Save the figure as json\n",
    "    with open('results/' + save_filename + '.json', 'w') as json_file:\n",
    "        json_file.write(fig.to_json())\n",
    "\n",
    "# Sample data\n",
    "sample_data = pd.DataFrame({\n",
    "    'status': ['ERROR IN RUN', 'Fail'],\n",
    "    'count': [2, 7]\n",
    "})\n",
    "\n",
    "# Call the function\n",
    "plot_graph(sample_data, 'test_execution_status')"
   ]
  }
 ],
 "metadata": {
  "kernelspec": {
   "display_name": "report-agent",
   "language": "python",
   "name": "python3"
  },
  "language_info": {
   "codemirror_mode": {
    "name": "ipython",
    "version": 3
   },
   "file_extension": ".py",
   "mimetype": "text/x-python",
   "name": "python",
   "nbconvert_exporter": "python",
   "pygments_lexer": "ipython3",
   "version": "3.11.5"
  }
 },
 "nbformat": 4,
 "nbformat_minor": 2
}
